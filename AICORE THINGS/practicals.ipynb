{
 "cells": [
  {
   "cell_type": "markdown",
   "metadata": {},
   "source": [
    "#### How to print things in Python"
   ]
  },
  {
   "cell_type": "code",
   "execution_count": 70,
   "metadata": {},
   "outputs": [
    {
     "name": "stdout",
     "output_type": "stream",
     "text": [
      "This print statement was created in Python\n",
      "I will be 38 years old this year\n"
     ]
    }
   ],
   "source": [
    "# Print out the message \"I will be\",age, \"years old this year\".\n",
    "my_first_print = \"This print statement was created in Python\"\n",
    "print(my_first_print)\n",
    "\n",
    "# Assign your age to a variable, then using a sibgle print staement with multiple parameters print \"Age:\" followed by your age.\n",
    "age = 38\n",
    "print(\"I will be\",age, \"years old this year\")\n"
   ]
  },
  {
   "cell_type": "markdown",
   "metadata": {},
   "source": [
    "#### Variables"
   ]
  },
  {
   "cell_type": "markdown",
   "metadata": {},
   "source": [
    "##### Due to approximations, floating point values yield different results for different calculations which can be dangerous for critical programs with calculations which demand high precision as can be seen below. To overcome this we use the Decimal module in Python\n"
   ]
  },
  {
   "cell_type": "code",
   "execution_count": 147,
   "metadata": {},
   "outputs": [
    {
     "name": "stdout",
     "output_type": "stream",
     "text": [
      "5 packs of tomatoes each costs = £ 3.35\n",
      "5 packs of 3 washing sponges each costs = £ 13.5\n",
      "5 packs of A litre of juice each costs = £ 8.75\n",
      "5 packs of 20m of foil each costs = £ 15.0\n",
      "5 packs of 180g sugar each costs = £ 5.75\n",
      "Total (without VAT) = £ 9.270000000000001\n",
      "Total (with 20% VAT)= £ 11.124000000000002\n",
      "Round-up Total + 20% VAT)= £ 11 2\n"
     ]
    }
   ],
   "source": [
    "# Calculate a groups shopping bills.\n",
    "# How much would it cost for 5 people if each person needs:\n",
    "#Assign the value to total\n",
    "#Provide your answer as a printed variable called total.\n",
    "#These prices do not include VAT. Calculate the VAT on the total, assuming that VAT is 20%.\n",
    "#Then round it appropriately to two decimal places.\n",
    "\n",
    "A = \"A pack of tomatoes\"\n",
    "B = \"3 washing sponges\"\n",
    "C = \"A litre of juice\"\n",
    "D = \"20m of foil\"\n",
    "E = \"180g sugar\"\n",
    "\n",
    "A = (0.67)\n",
    "B = (2.70)\n",
    "C = (1.75)\n",
    "D = (3.00)\n",
    "E = (1.15)\n",
    "\n",
    "print(\"5 packs of tomatoes each costs = £\", 5 * A)\n",
    "F = 5 * A\n",
    "print(\"5 packs of 3 washing sponges each costs = £\", 5 * B)\n",
    "G = 5 * B\n",
    "print(\"5 packs of A litre of juice each costs = £\", 5 * C)\n",
    "H = 5 * C\n",
    "print(\"5 packs of 20m of foil each costs = £\", 5 * D)\n",
    "I = 5 * D\n",
    "print(\"5 packs of 180g sugar each costs = £\", 5 * E)\n",
    "J = 5 * E\n",
    "total = A + B + C + D + E\n",
    "print(\"Total (without VAT) = £\",total)\n",
    "print(\"Total (with 20% VAT)= £\",(0.2) * (total) + total)\n",
    "print(\"Round-up Total + 20% VAT)= £\",round((0.2) * (total) + (total)), 2)"
   ]
  },
  {
   "cell_type": "markdown",
   "metadata": {},
   "source": [
    "#### How to use the decimal module for critical calculations in Python"
   ]
  },
  {
   "cell_type": "code",
   "execution_count": 5,
   "metadata": {},
   "outputs": [
    {
     "name": "stdout",
     "output_type": "stream",
     "text": [
      "5 packs of tomatoes each costs = £ 3.35\n",
      "5 packs of 3 washing sponges each costs = £ 13.50\n",
      "5 packs of A litre of juice each costs = £ 8.75\n",
      "5 packs of 20m of foil each costs = £ 15.00\n",
      "5 packs of 180g sugar each costs = £ 5.75\n",
      "Total (without VAT) = £ 9.27\n",
      "Total (with 20% VAT)= £ 11.124\n",
      "Round-up Total + 20% VAT)= £ 11.12\n"
     ]
    }
   ],
   "source": [
    "# Calculate a groups shopping bills.\n",
    "# How much would it cost for 5 people if each person needs:\n",
    "#Assign the value to total\n",
    "#Provide your answer as a printed variable called total.\n",
    "#These prices do not include VAT. Calculate the VAT on the total, assuming that VAT is 20%.\n",
    "#Then round it appropriately to two decimal places.\n",
    "\n",
    "A = \"A pack of tomatoes\"\n",
    "B = \"3 washing sponges\"\n",
    "C = \"A litre of juice\"\n",
    "D = \"20m of foil\"\n",
    "E = \"180g sugar\"\n",
    "\n",
    "import decimal\n",
    "A = decimal.Decimal(\"0.67\")\n",
    "B = decimal.Decimal(\"2.70\")\n",
    "C = decimal.Decimal(\"1.75\")\n",
    "D = decimal.Decimal(\"3.00\")\n",
    "E = decimal.Decimal(\"1.15\")\n",
    "\n",
    "print(\"5 packs of tomatoes each costs = £\", 5 * A)\n",
    "F = 5 * A\n",
    "print(\"5 packs of 3 washing sponges each costs = £\", 5 * B)\n",
    "G = 5 * B\n",
    "print(\"5 packs of A litre of juice each costs = £\", 5 * C)\n",
    "H = 5 * C\n",
    "print(\"5 packs of 20m of foil each costs = £\", 5 * D)\n",
    "I = 5 * D\n",
    "print(\"5 packs of 180g sugar each costs = £\", 5 * E)\n",
    "J = 5 * E\n",
    "total = A + B + C + D + E\n",
    "print(\"Total (without VAT) = £\",total)\n",
    "print(\"Total (with 20% VAT)= £\",decimal.Decimal(\"0.2\") * (total) + total)\n",
    "total_incl_vat = round(decimal.Decimal(\"0.2\") * (total) + (total),2)\n",
    "print(\"Round-up Total + 20% VAT)= £\",(total_incl_vat))\n"
   ]
  },
  {
   "cell_type": "code",
   "execution_count": 6,
   "metadata": {},
   "outputs": [
    {
     "name": "stdout",
     "output_type": "stream",
     "text": [
      "+--------------+-----------------+------------------+-----------------+\n",
      "|   Quantity   |       Item      |    Unit cost     |    Total cost   |\n",
      "+--------------+-----------------+------------------+-----------------+\n",
      "|     5        |pack of Tomaotes |     0.67         |      3.35       |\n",
      "+--------------+-----------------+------------------+-----------------+\n",
      "|     5        |3x washing sponge|     2.70         |      13.50      |\n",
      "+--------------+-----------------+------------------+-----------------+\n",
      "|     5        |a litre of juice |     1.75         |      8.75       |\n",
      "+--------------+-----------------+------------------+-----------------+\n",
      "|     5        |20m foil         |     3.00         |      15.00      |\n",
      "+--------------+-----------------+------------------+-----------------+\n",
      "|     5        |180g of sugar    |     1.10         |      5.75       |\n",
      "+--------------+-----------------+------------------+-----------------+\n",
      "|              |            Grand Total(excl VAT)   |      9.27       |\n",
      "+--------------+-----------------+------------------+-----------------+\n",
      "|              |            Grand Total( + VAT)     |      9.27       |\n",
      "+--------------+-----------------+------------------+-----------------+\n"
     ]
    }
   ],
   "source": [
    "print(\"+--------------+-----------------+------------------+-----------------+\")\n",
    "print(\"|   Quantity   |       Item      |    Unit cost     |    Total cost   |\")\n",
    "print(\"+--------------+-----------------+------------------+-----------------+\")\n",
    "print(\"|     5        |pack of Tomaotes |     0.67         |     \", F,\"      |\")\n",
    "print(\"+--------------+-----------------+------------------+-----------------+\")\n",
    "print(\"|     5        |3x washing sponge|     2.70         |     \", G,\"     |\")\n",
    "print(\"+--------------+-----------------+------------------+-----------------+\")\n",
    "print(\"|     5        |a litre of juice |     1.75         |     \", H,\"      |\")\n",
    "print(\"+--------------+-----------------+------------------+-----------------+\")\n",
    "print(\"|     5        |20m foil         |     3.00         |     \", I,\"     |\")\n",
    "print(\"+--------------+-----------------+------------------+-----------------+\")\n",
    "print(\"|     5        |180g of sugar    |     1.10         |     \", J,\"      |\")\n",
    "print(\"+--------------+-----------------+------------------+-----------------+\")\n",
    "print(\"|              |            Grand Total(excl VAT)   |     \", total,\"      |\")\n",
    "print(\"+--------------+-----------------+------------------+-----------------+\")\n",
    "print(\"|              |            Grand Total( + VAT)     |     \", total,\"      |\")\n",
    "print(\"+--------------+-----------------+------------------+-----------------+\")"
   ]
  },
  {
   "cell_type": "code",
   "execution_count": 69,
   "metadata": {},
   "outputs": [
    {
     "name": "stdout",
     "output_type": "stream",
     "text": [
      "3.5714285714285716\n",
      "12.5\n",
      "35\n",
      "The volume of the cuboid is 1562.5 and it's surface area is 1214.29\n",
      "The volume of cone is 94.29 and the surface area is 126.72\n"
     ]
    }
   ],
   "source": [
    "# Volumes and surfaces of shapes.\n",
    "# You have shapes with measurements:\n",
    "# Cuboid:\n",
    "h = (25/7)\n",
    "print (h)\n",
    "w = (25/2)\n",
    "print(w)\n",
    "l = (35)\n",
    "print(l)\n",
    "cuboid_volume = (l * w * h)\n",
    "x = cuboid_volume\n",
    "\n",
    "cuboid_surface_area = 2*((l*w) + (l*h) + (h*w))\n",
    "y = cuboid_surface_area\n",
    "print(\"The volume of the cuboid is\", x, \"and it\\'s surface area is\", round(y,2))\n",
    "\n",
    "# Cone:\n",
    "# Height (h): 10\n",
    "# Radius of base (r): 3\n",
    "pi = (22/7)\n",
    "r = 3\n",
    "h = 10\n",
    "cone_volume = pi * r**2 * h/3\n",
    "z = cone_volume\n",
    "\n",
    "cone_surface_area = pi * r * (r + ((h**2 + r**2)** 0.5))\n",
    "v = cone_surface_area\n",
    "print(\"The volume of cone is\", round(z,2), \"and the surface area is\", round(v,2))\n",
    "\n"
   ]
  },
  {
   "cell_type": "code",
   "execution_count": 181,
   "metadata": {},
   "outputs": [
    {
     "name": "stdout",
     "output_type": "stream",
     "text": [
      "3.571428571428571618895375650026835501194000244140625\n",
      "12.5\n",
      "35\n",
      "The volume of the cuboid is 1562.50 and it's surface area is 1214.29\n",
      "The volume of cone is 94.286 and the surface area is 126.723\n"
     ]
    }
   ],
   "source": [
    "# Volumes and surfaces of shapes.\n",
    "# You have shapes with measurements:\n",
    "# Cuboid:\n",
    "import decimal\n",
    "h = decimal.Decimal(25/7)\n",
    "print (h)\n",
    "w = decimal.Decimal(25/2)\n",
    "print(w)\n",
    "l = (35)\n",
    "print(l)\n",
    "cuboid_volume = decimal.Decimal(l * w * h)\n",
    "x = cuboid_volume\n",
    "\n",
    "cuboid_surface_area = 2* decimal.Decimal((l*w) + (l*h) + (h*w))\n",
    "y = cuboid_surface_area\n",
    "print(\"The volume of the cuboid is\", round(x,2), \"and it\\'s surface area is\", round(y,2))\n",
    "\n",
    "# Cone:\n",
    "# Height (h): 10\n",
    "# Radius of base (r): 3\n",
    "pi = (22/7)\n",
    "r = 3\n",
    "h = 10\n",
    "cone_volume = pi * r**2 * h/3\n",
    "z = cone_volume\n",
    "\n",
    "cone_surface_area = pi * r * (r + ((h**2 + r**2)** 0.5))\n",
    "v = cone_surface_area\n",
    "print(\"The volume of cone is\", round(z,3), \"and the surface area is\", round(v,3))"
   ]
  },
  {
   "cell_type": "code",
   "execution_count": 1,
   "metadata": {},
   "outputs": [
    {
     "name": "stdout",
     "output_type": "stream",
     "text": [
      "45\n",
      "9\n",
      "P\n",
      "Ps\n"
     ]
    }
   ],
   "source": [
    "#String Length\n",
    "# Print the length of the word: long_word = 'Pneumonoultramicroscopicsilicovolcanoconiosis' Don't worry if you can't see the whole word, you can select it and copy it to the clipboard.\n",
    "# Print the length of long_word.\n",
    "# Access the first letter of long_word by indexing the variable and assign it to first_c.\n",
    "# Access the last letter of long_word and assign it to last_c.\n",
    "# Use an arithmetic operator to append last_c to first_c and print the result\n",
    "\n",
    "\n",
    "\n",
    "\n",
    "long_word = 'Pneumonoultramicroscopicsilicovolcanoconiosis'\n",
    "print(len(long_word))\n",
    "\n",
    "print(len(\"long_word\"))\n",
    "\n",
    "print(long_word[0])\n",
    "first_c = long_word[0]\n",
    "\n",
    "long_word[-1]\n",
    "last_c = long_word[-1]\n",
    "\n",
    "print(first_c + last_c)\n",
    "\n"
   ]
  },
  {
   "cell_type": "code",
   "execution_count": 199,
   "metadata": {},
   "outputs": [
    {
     "name": "stdout",
     "output_type": "stream",
     "text": [
      "67\n",
      "<class 'int'>\n",
      "17\n",
      "1050\n",
      "1.68\n",
      "<class 'float'>\n"
     ]
    }
   ],
   "source": [
    "\n",
    "# Print the sum of a and b\n",
    "# Print the difference of a and b\n",
    "# Print the product of a and b\n",
    "# Print the division of a by b Now a = 4.2\n",
    "# Print the type of a + b. Why does this happen?\n",
    "\n",
    "a = 42\n",
    "b = 25\n",
    "print(a + b)\n",
    "print(type(a + b))\n",
    "print (a - b)\n",
    "print(a * b)\n",
    "print(a/b)\n",
    "a = 4.2\n",
    "print(type(a + b))"
   ]
  },
  {
   "cell_type": "code",
   "execution_count": 219,
   "metadata": {},
   "outputs": [
    {
     "name": "stdout",
     "output_type": "stream",
     "text": [
      "1000g sugar will cost 2.18 \n",
      "\n",
      "if A pack off 20 Washing sponges costs 0.58\n",
      "3l bottle Juice costs 3.78\n",
      "and 2 packs of Tomatoes costs 1.74\n",
      "Therefore the total price of 20 washing sponges, 3l of juice, and 2 packs of tomatoes will be 6.1\n"
     ]
    }
   ],
   "source": [
    "# Assign variables for each of these items and their prices\n",
    "# Tomatoes cost 87p for a pack of 6\n",
    "# 500g sugar costs £1.09\n",
    "# Washing sponges cost 29p for a pack of 10\n",
    "# Juice is £1.89 per 1.5l bottle\n",
    "# Foil is £1.29 per 30m roll\n",
    "# Using arithmetic operations in Python, calculate the price of 1kg sugar\n",
    "# What is the price of 20 washing sponges, 3l of juice, and 2 packs of tomatoes?\n",
    "\n",
    "##Assign variables for each of these items and their prices\n",
    "\n",
    "k = \"2 packs of Tomatoes\"\n",
    "l = \"1000g sugar\" \n",
    "m = \"A pack off 20 Washing sponges\"\n",
    "n = \"3l bottle Juice\"\n",
    "## Using arithmetic operations in Python, calculate the price of 1kg sugar\n",
    "print(l, \"will cost\", (1000 * 1.09)/500,\"\\n\")\n",
    "\n",
    "# What is the price of 20 washing sponges\n",
    "print(\"if\", m, \"costs\", (20 * 0.29)/10)\n",
    "m = (20 * 0.29)/10\n",
    "# 3l of juice\n",
    "print(n, \"costs\", (3 * 1.89)/1.5)\n",
    "n = (3 * 1.89)/1.5\n",
    "# 2 packs of tomatoes?\n",
    "print(\"and\", k, \"costs\", (2 * 0.87))\n",
    "k = (2 * 0.87)\n",
    "print(\"Therefore the total price of 20 washing sponges, 3l of juice, and 2 packs of tomatoes will be\", (m + n + k))"
   ]
  },
  {
   "cell_type": "code",
   "execution_count": 226,
   "metadata": {},
   "outputs": [
    {
     "name": "stdout",
     "output_type": "stream",
     "text": [
      "89\n",
      "1924\n",
      "11\n",
      "24\n"
     ]
    }
   ],
   "source": [
    "#Variable Assignment & Re-assignment\n",
    "#Define two variables num1, and num2 with the values 37 and 52 respectively\n",
    "#What is the sum of num1 and num2? What about the product?\n",
    "#Now reassign num1 and num2 to have the values 8 and 3 respectively\n",
    "#Reuse the code to determine their sum and product\n",
    "\n",
    "num1 = 37\n",
    "num2 = 52\n",
    "print(num1 + num2)\n",
    "print (num1 * num2)\n",
    "num1 = 8\n",
    "num2 = 3\n",
    "print(num1 + num2)\n",
    "print (num1 * num2)"
   ]
  },
  {
   "cell_type": "code",
   "execution_count": 253,
   "metadata": {},
   "outputs": [
    {
     "name": "stdout",
     "output_type": "stream",
     "text": [
      "208.95\n",
      "75.0\n",
      "15.0\n",
      "15\n",
      "1044.75\n",
      "0\n",
      "8.5\n",
      "8\n"
     ]
    },
    {
     "data": {
      "text/plain": [
       "-1163220302.3333333"
      ]
     },
     "execution_count": 253,
     "metadata": {},
     "output_type": "execute_result"
    }
   ],
   "source": [
    "#Exercises on Numbers\n",
    "#What is the difference between an integer and a floating-point number?\n",
    "#Write an expression using addition & subtraction & multiplication & division that is equal to 1044.75.\n",
    "#What is the modulo operator? How can you check if a number is multiple of three?\n",
    "#What is the difference between normal and floor division?\n",
    "#Calculate 1 + 2 * 3 - 4 / 6 * (6 + 7) * 8 ** 9\n",
    "\n",
    "print(1044.75/5) # 208.95 * 5\n",
    "print(208.95 - 133.95) # (75.0 + 133.95)\n",
    "print(75 * 0.20) # 15/0.2\n",
    "print(10 + 5)\n",
    "print(5 * ((20 - 5)/0.2 + 133.95))\n",
    "\n",
    "\n",
    "print(363 % 3)\n",
    "\n",
    "print(17/2)\n",
    "\n",
    "print(17//2)\n",
    "\n",
    "1 + 2 * 3 - 4 / 6 * (6 + 7) * 8 ** 9\n",
    "\n",
    "\n"
   ]
  },
  {
   "cell_type": "code",
   "execution_count": 257,
   "metadata": {},
   "outputs": [
    {
     "name": "stdout",
     "output_type": "stream",
     "text": [
      "<class 'int'>\n",
      "<class 'str'>\n",
      "<class 'float'>\n"
     ]
    }
   ],
   "source": [
    "#Different Variable Types\n",
    "#Define the the following variables num = 23, text_num = “57” and decimal_num = 98.3\n",
    "\n",
    "#Print the types of each variable (hint: use a type comversion function)\n",
    "#What is the sum of your variables? What datatype is the sum?\n",
    "\n",
    "num = 23\n",
    "print(type(num)) \n",
    "text_num = \"57\"\n",
    "print(type(text_num)) \n",
    "decimal_num = 98.3\n",
    "print(type(decimal_num))"
   ]
  },
  {
   "cell_type": "markdown",
   "metadata": {},
   "source": [
    "###### Printing Multiple Variables\n",
    "###### You can use the print function to print multiple variables of different types on a single line. This can be done by using comma to separate variables within the parentheses of the print function. For example: print(variable1, variable2). You can also print raw values that have not been assigned variables. For example, print(\"This is variable 1: \", 67). For this exercise, define 5-10 numbers as variables. num1=..., num2=...\n",
    "###### Use a single print statement to print all of the even numbers out of your newly defined variables with the following statement, \"These are my even numbers:\".\n",
    "###### The + operator in Python works with strings variables as well as numeric types - but it simply concatenates strings together one after the other. Using + and the example below, write your output as a single complete sentence. (Hint: you'll probably need to use at least one type conversion function).\n",
    "###### print(\"work\" + \"shop\") will output workshop 'print(\"3\" + \"7\")' will output 37"
   ]
  },
  {
   "cell_type": "code",
   "execution_count": 269,
   "metadata": {},
   "outputs": [
    {
     "name": "stdout",
     "output_type": "stream",
     "text": [
      "These are my even numbers: 20 , 32 , 44\n"
     ]
    }
   ],
   "source": [
    "num1 = 20\n",
    "num2 = 21\n",
    "num3 = 32\n",
    "num4 = 44\n",
    "num5 = 57\n",
    "num6 = 71\n",
    "print(\"These are my even numbers:\", num1, \",\", num3,\",\", num4)"
   ]
  },
  {
   "cell_type": "code",
   "execution_count": 270,
   "metadata": {},
   "outputs": [
    {
     "name": "stdout",
     "output_type": "stream",
     "text": [
      "245\n"
     ]
    }
   ],
   "source": [
    "print(num1 + num2 + num3 + num4 + num5 + num6)"
   ]
  },
  {
   "cell_type": "markdown",
   "metadata": {},
   "source": [
    "#### List Pracical"
   ]
  },
  {
   "cell_type": "code",
   "execution_count": 285,
   "metadata": {},
   "outputs": [
    {
     "name": "stdout",
     "output_type": "stream",
     "text": [
      "[['boolean', 'float', 'integer', 'string', 'list'], [0, 0, 0, 0, 0, 0, 0, 0, 0, 0]]\n",
      "['string', 0]\n"
     ]
    }
   ],
   "source": [
    "# Create a list of five elements with a different data type. Name it list_1\n",
    "# Now create a list with ten zeros, do it using the '*' operator. Name it list_2\n",
    "# Nest list_1 and list_2 into a new list and name it list_3. So list_3 should look like this [list_1, list2]\n",
    "# Access the fourth element of each list_1 and list_2 and store the elements in list_4. \n",
    "# So list_4 should look like this [fourth element of list_1, fourth element of list_2]\n",
    "list_1 = [\"boolean\", \"float\", \"integer\", \"string\", \"list\"]\n",
    "list_2 = 10*[0]\n",
    "list_3 = [list_1, list_2]\n",
    "print(list_3)\n",
    "list_4 = [list_1[3], list_2[3]]\n",
    "print(list_4)"
   ]
  },
  {
   "cell_type": "markdown",
   "metadata": {},
   "source": [
    "###### Write a program that checks if the two words in the following strings start with the same letter.\n",
    "###### phrase1 = 'Clean Couch' \n",
    "###### phrase2 = 'Giant Table'\n",
    "###### Write a program that returns the following strings with the words reversed (Not the characters).\n",
    "###### my_string1 = 'This is a short phrase'\n",
    "###### my_string2 = 'This is actually a significantly longer phrase than the previous one'"
   ]
  },
  {
   "cell_type": "code",
   "execution_count": 15,
   "metadata": {},
   "outputs": [
    {
     "name": "stdout",
     "output_type": "stream",
     "text": [
      "False\n",
      "['phrase', 'short', 'a', 'is', 'This']\n",
      "['one', 'previous', 'the', 'than', 'phrase', 'longer', 'significantly', 'a', 'actually', 'is', 'This']\n"
     ]
    }
   ],
   "source": [
    "phrase1 = 'Clean Couch'\n",
    "phrase2 = 'Giant Table'\n",
    "print(phrase1[0] == phrase2[0])\n",
    "\n",
    "my_string1 = 'This is a short phrase'\n",
    "my_string1 = ['This','is','a', 'short', 'phrase']\n",
    "my_string1.reverse()\n",
    "print(my_string1)\n",
    "\n",
    "my_string2 = 'This is actually a significantly longer phrase than the previous one'\n",
    "my_string2 = ['This', 'is', 'actually', 'a', 'significantly', 'longer', 'phrase', 'than', 'the', 'previous', 'one']\n",
    "my_string2.reverse()\n",
    "print(my_string2)"
   ]
  },
  {
   "cell_type": "code",
   "execution_count": 330,
   "metadata": {},
   "outputs": [
    {
     "name": "stdout",
     "output_type": "stream",
     "text": [
      "False\n",
      "False\n",
      "True\n",
      "False\n",
      "True\n",
      "False\n",
      "True\n",
      "True\n",
      "False\n",
      "[0, 0, 0, 0, 0, 0, 0, 0, 0, 0]\n",
      "10\n"
     ]
    }
   ],
   "source": [
    "# Name character intersection\n",
    "# Create a list with two names [name_1, name_2]\n",
    "# Find the characters that appear in both names\n",
    "name_1 = 'Silvester'\n",
    "name_2 = 'Pendleton'\n",
    "a_list = [name_1 , name_2]\n",
    "print('S' in name_2)\n",
    "print('i' in name_2)\n",
    "print('l' in name_2)\n",
    "print('v' in name_2)\n",
    "print('e' in name_2)\n",
    "print('s' in name_2)\n",
    "print('t' in name_2)\n",
    "print('e' in name_2)\n",
    "print('r' in name_2)\n",
    "\n",
    "# Multiplying list elements\n",
    "# Create a list with ten zeros, do it using the '*' operator. Name it list_1\n",
    "# Create a set from list_1 and print its length.\n",
    "list_z = [0] * 10\n",
    "print(list_z)\n",
    "print(len(list_z))"
   ]
  },
  {
   "cell_type": "code",
   "execution_count": 4,
   "metadata": {},
   "outputs": [
    {
     "name": "stdout",
     "output_type": "stream",
     "text": [
      "6\n",
      "11\n",
      "68\n"
     ]
    },
    {
     "data": {
      "text/plain": [
       "str"
      ]
     },
     "execution_count": 4,
     "metadata": {},
     "output_type": "execute_result"
    }
   ],
   "source": [
    "# Car number plate year\n",
    "# Given the following list of number plates: [\"G06 WTR\", \"WL11 WFL\", \"QW68 PQR\"]\n",
    "# Extract the last two characters of the first word, which represent the year of the car\n",
    "# Print the type of each of them\n",
    "# Convert each of these years to an integer type\n",
    "\n",
    "nplate_1 = \"G06 WTR\"\n",
    "nplate_2 = \"WL11 WFL\"\n",
    "nplate_3 = \"QW68 PQR\"\n",
    "print(int(nplate_1[1:3]))\n",
    "print(int(nplate_2[2:4])) \n",
    "print(int(nplate_3[2:4]))\n",
    "\n",
    "type(int(nplate_1[1:3]))\n",
    "type(int(nplate_2[2:4]))\n",
    "type(int(nplate_3[2:4]))\n",
    "\n"
   ]
  },
  {
   "cell_type": "code",
   "execution_count": 350,
   "metadata": {},
   "outputs": [
    {
     "name": "stdout",
     "output_type": "stream",
     "text": [
      "<class 'list'>\n",
      "4\n",
      "<class 'str'>\n",
      "7\n"
     ]
    }
   ],
   "source": [
    "# username list\n",
    "# Create a list of usernames, and name it usernames.\n",
    "# Print the type of usernames\n",
    "# Print the length of usernames\n",
    "# Print the type of the first item in usernames\n",
    "# Find the length of the last name in usernames\n",
    "\n",
    "usernames =  ['wiseman234', 'chisco776', 'myself45', 'dong699']\n",
    "print(type(usernames))\n",
    "print(len(usernames))\n",
    "print(type('wiseman234'))\n",
    "print(len(usernames[-1]))"
   ]
  },
  {
   "attachments": {},
   "cell_type": "markdown",
   "metadata": {},
   "source": [
    "\n",
    "### Control flow\n",
    "#### 'if' Statement\n",
    "#### Bug Found: x = (Weight/(Height**2)) calculated before rounding off within the if statement generates error with h = 1.78 and wieght = 79.\n",
    "#### Bug Fix: x = round(Weight/(Height**2),1) calculated and rounded off before If statement."
   ]
  },
  {
   "cell_type": "code",
   "execution_count": 68,
   "metadata": {},
   "outputs": [
    {
     "name": "stdout",
     "output_type": "stream",
     "text": [
      "your BMI is 24.9 You're in the healthy weight range\n",
      "24.9\n"
     ]
    }
   ],
   "source": [
    "#BMI Checker\n",
    "#Given 2 variables, height and weight, calculate the BMI (weight / height ^2).\n",
    "\n",
    "#Using the parameter BMI, write a series of if statements that print the following outcomes:\n",
    "\n",
    "#Below 18.5 --> \"Your BMI is x. You're in the underweight range.\"\n",
    "#Between 18.5 and 24.9 --> \"Your BMI is x. You're in the healthy weight range.\"\n",
    "#Between 25 and 29.9 --> \"Your BMI is x. You're in the overweight range.\"\n",
    "#Between 30 and 39.9 --> \"Your BMI is x. You're in the obese range.\"\n",
    "#Test your code with the following cases by substituting them in for weight and height values in your code:\n",
    "\n",
    "#Height: 1.83m, Weight: 85kg\n",
    "#Height: 1.55m, Weight: 61kg\n",
    "#Height: 2.09m, Weight: 135kg\n",
    "\n",
    "\n",
    "\n",
    "Height = 1.78\n",
    "Weight = 79\n",
    "x = round(Weight/(Height**2),1)\n",
    "\n",
    "if x <= 18.5:\n",
    "    print(f\"your BMI is {(x)} you're in the underweight range\")\n",
    "elif (x <= 24.9):\n",
    "    print(f\"your BMI is {(x)} You're in the healthy weight range\")\n",
    "elif (x <= 29.9):\n",
    "    print(f\"your BMI is {(x)} You're in the overweight range\")\n",
    "elif (x <= 39.9):\n",
    "    print(f\"your BMI is {(x)} You're in the obese range\")\n",
    "else:\n",
    "    print(\"Error\")\n",
    "\n",
    "x = (Weight/(Height**2))\n",
    "print(round(x,1))\n",
    "\n"
   ]
  },
  {
   "cell_type": "code",
   "execution_count": 69,
   "metadata": {},
   "outputs": [
    {
     "name": "stdout",
     "output_type": "stream",
     "text": [
      "your BMI is 24.9 You're in the healthy weight range\n"
     ]
    }
   ],
   "source": [
    "h = input(\"Enter your Height: \")\n",
    "h = float(h)\n",
    "w = input(\"Enter your Weight: \")\n",
    "w = float(w)\n",
    "x = round((w/(h**2)),1)\n",
    "if x <= 18.5:\n",
    "    print(\"your BMI is\",(x),\"you're in the underweight range\")\n",
    "elif x <= 24.9 :\n",
    "    print(\"your BMI is\",(x), \"You're in the healthy weight range\")\n",
    "elif x <= 29.9 :\n",
    "    print(\"your BMI is\",(x), \"You're in the overweight range\")\n",
    "elif x <= 39.9 :\n",
    "    print(\"your BMI is\",(x), \"You're in the obese range\")\n",
    "else:\n",
    "    print(\"Error...Abnormal result!!\\nplease input correct parameters\")\n"
   ]
  },
  {
   "cell_type": "code",
   "execution_count": 93,
   "metadata": {},
   "outputs": [
    {
     "name": "stdout",
     "output_type": "stream",
     "text": [
      "90 .ft above ground level is an unsafe flying zone irrespective of airspeed parameter\n"
     ]
    }
   ],
   "source": [
    "\n",
    "# Flight Safety Checker\n",
    "# Given 2 variables, altitude (ft) and airspeed (knots)\n",
    "\n",
    "# Write a program that categorises entries into 'safe flying' and 'unsafe flying' based on the following criteria:\n",
    "# An altitude below 100ft or above 50000ft is considered unsafe flying\n",
    "# An airspeed below 60 knots or above 500 knots is considered unsafe flying\n",
    "# If altitude and airspeed are outside these ranges, the flight is considered as safe\n",
    "# CLUE: You will have to figure out the syntax for using and/or keywords in if statements\n",
    "# Try to write this as cleanly as possible and test your code with the following by substituting in again:\n",
    "\n",
    "# Altitude: 25000ft, Airspeed: 300 knots\n",
    "# Altitude: 50001ft, Airspeed: 250 knots\n",
    "# Altitude: 90ft, Airspeed: 125 knots\n",
    "a = 'Altitude'\n",
    "b = 'airspeed' \n",
    "a = 90\n",
    "b = 12\n",
    "if 100 > a or 50000 < a:\n",
    "    print(a,\".ft above ground level is an unsafe flying zone irrespective of airspeed parameter\")\n",
    "elif 60 > b or 500 < b:\n",
    "    print(b,\".knots is an unsafe flying speed; irrespective of Altitude parameter.\")\n",
    "else:\n",
    "    print(a,\".ft and\", b,\".knots are considered safe flying parameters\")\n"
   ]
  },
  {
   "cell_type": "code",
   "execution_count": 94,
   "metadata": {},
   "outputs": [
    {
     "name": "stdout",
     "output_type": "stream",
     "text": [
      "unsafe flying zone\n"
     ]
    }
   ],
   "source": [
    "if (100 > a or 50000 < a) or (60 > b or 500 < b):\n",
    "    print(\"unsafe flying zone\")\n",
    "else:\n",
    "    print(\"safe flying zone\")\n"
   ]
  },
  {
   "cell_type": "code",
   "execution_count": 101,
   "metadata": {},
   "outputs": [
    {
     "name": "stdout",
     "output_type": "stream",
     "text": [
      "9000 .ft and 120 .knots are considered safe flying parameters\n"
     ]
    }
   ],
   "source": [
    "a = 'Altitude'\n",
    "b = 'airspeed' \n",
    "a = 9000\n",
    "b = 120\n",
    "if 100 > a or 50000 < a:\n",
    "    print(a,\".ft above ground level is an unsafe flying zone irrespective of airspeed parameter\")\n",
    "elif 60 > b or 500 < b:\n",
    "    print(b,\".knots is an unsafe flying speed; irrespective of Altitude parameter.\")\n",
    "elif (100 <= a or 50000 >= a) and (60 <= b or 500 >= b):\n",
    "    print(a,\".ft and\", b,\".knots are considered safe flying parameters\")\n",
    "else:\n",
    "    print('Error')"
   ]
  },
  {
   "cell_type": "code",
   "execution_count": 102,
   "metadata": {},
   "outputs": [],
   "source": [
    "#Order of Conditions\n",
    "#Download the next file .\n",
    "#Run the code and enter 5 as the input. What is the output?\n",
    "#Run the code again and enter 20 as the input. What is the output?\n",
    "#Run the code again and enter 50 as the input. What is the output?\n",
    "#Notice that for all three inputs, you received the same output, why is this?\n",
    "#Change the order of the conditions so that the correct output is printed for each input\n",
    "\n",
    "x = int(input('Enter a number: '))\n",
    "if x > 20: \n",
    "    print('x is greater than 20')\n",
    "elif x > 15:\n",
    "    print('x is greater than 15')\n",
    "elif x > 0:\n",
    "    print('x is greater than 0')\n",
    "else:\n",
    "    print('x is less than 0')"
   ]
  },
  {
   "cell_type": "markdown",
   "metadata": {},
   "source": [
    "### Set() checks uniqueness of a List.\n",
    "\n",
    "##### There are four collection data types in the Python programming language:\n",
    "##### List is a collection which is ordered and changeable. Allows duplicate members.\n",
    "##### Tuple is a collection which is ordered and unchangeable. Allows duplicate members.\n",
    "##### Set is a collection which is unordered, unchangeable*, and unindexed. No duplicate members.\n",
    "##### Dictionary is a collection which is ordered** and changeable. No duplicate members.\n"
   ]
  },
  {
   "cell_type": "code",
   "execution_count": 3,
   "metadata": {},
   "outputs": [
    {
     "name": "stdout",
     "output_type": "stream",
     "text": [
      "11\n",
      "my_list is not unique. There are duplicate elements\n"
     ]
    }
   ],
   "source": [
    "#Unique Elements in a List\n",
    "#Given a list named my_list, write a program that checks if all the elements in the list \n",
    "#are unique. If the elements are unique, print 'All elements are unique'. If there are duplicate elements, \n",
    "#print 'There are duplicate elements'.\n",
    "\n",
    "my_list =['cup', 4.5, 54,'£300','Imran','today','gallant',4.5,'cup', '123fog', 0 ,'green','Tom',0]\n",
    "#print(len(my_list))\n",
    "\n",
    "#print(type(my_list))\n",
    "M = my_list\n",
    "if len(set(M)) < (len(M)):\n",
    "    print(\"my_list is not unique. There are duplicate elements\")\n",
    "else:\n",
    "    print(\"my_list is unique\")\n",
    "\n",
    "    print(len(set(M)))"
   ]
  },
  {
   "cell_type": "code",
   "execution_count": 5,
   "metadata": {},
   "outputs": [
    {
     "name": "stdout",
     "output_type": "stream",
     "text": [
      "Invalid input\n"
     ]
    }
   ],
   "source": [
    "#Simple Rock-Paper-Scissors\n",
    "#Write a program that checks which player wins a game of Rock Paper Scissors.\n",
    "\n",
    "#Download the next file .\n",
    "\n",
    "#The program asks two inputs from the user: player1 and player2. The inputs can be either 'rock', 'paper' or 'scissors'.\n",
    "\n",
    "#Code the logic of the game to see who wins. Print the result like: 'Player 1 wins' or 'Player 2 wins'\n",
    "#If one of the inputs is not 'rock', 'paper' or 'scissors', print 'Invalid input'\n",
    "#If both inputs are the same, print \"It's a tie\"\n",
    "#Test your code with the following inputs:\n",
    "\n",
    "#Player 1: scissors, Player 2: paper (This should print 'Player 1 wins')\n",
    "#Player 1: scissors, Player 2: rock (This should print 'Player 2 wins')\n",
    "#Player 1: paper, Player 2: paper (This should print 'It's a tie')\n",
    "#Player 1: rock, Player 2: lizzard (This should print 'Invalid input')\n",
    "\n",
    "\n",
    "list = ['rock','paper','scissors', None]\n",
    "#R = 'scissors'\n",
    "#P = 'paper'\n",
    "#S = 'scissors'\n",
    "#list = [R, P, S]\n",
    "\n",
    "player1 = input('player1 enter rock, paper or scissors: ')\n",
    "player2 = input('player2 enter rock, paper or scissors: ')\n",
    "\n",
    "if player1 == list[0] and player2 == list[2]:\n",
    "    print(\"player1 wins\")\n",
    "elif player1 == list[2] and player2 == list[0]:\n",
    "    print(\"player2 wins\")\n",
    "\n",
    "elif player1 == list[1] and player2 == list[0]:\n",
    "    print(\"player1 wins\")\n",
    "elif player1 == list[0] and player2 == list[1]:\n",
    "    print(\"player2 wins\")\n",
    "\n",
    "elif player1 == list[2] and player2 == list[1]:\n",
    "    print(\"player1 wins\")\n",
    "elif player1 == list[1] and player1 == list[2]:\n",
    "    print(\"player2 wins\")\n",
    "\n",
    "elif player1 == list[0] and player2 == list[0]:\n",
    "    print(\"it's a tie\")\n",
    "elif player1 == list[1] and player2 == list[1]:\n",
    "    print(\"it's a tie\")\n",
    "elif player1 == list[2] and player2 == list[2]:\n",
    "    print(\"it's a tie\")  \n",
    "elif player1 == list[0] or list[1] or list[2] and player2 != list[0] or list[1] or list[2]:\n",
    "    print(\"Invalid input\")\n",
    "elif player1 != list[0] or list[1] or list[2] and player2 == list[0] or list[1] or list[2]:\n",
    "    print(\"Invalid input\")\n",
    "#elif player1 == list[-1] and player2 == list[-1]:\n",
    "    #print(\"please input 'rock','paper', or 'scissors'.\")\n"
   ]
  },
  {
   "cell_type": "code",
   "execution_count": 1,
   "metadata": {},
   "outputs": [
    {
     "data": {
      "text/plain": [
       "list[3]"
      ]
     },
     "execution_count": 1,
     "metadata": {},
     "output_type": "execute_result"
    }
   ],
   "source": [
    "list[3]"
   ]
  },
  {
   "cell_type": "code",
   "execution_count": 6,
   "metadata": {},
   "outputs": [
    {
     "ename": "IndentationError",
     "evalue": "expected an indented block (1629611094.py, line 47)",
     "output_type": "error",
     "traceback": [
      "\u001b[1;36m  Input \u001b[1;32mIn [6]\u001b[1;36m\u001b[0m\n\u001b[1;33m    #print(\"please input 'rock','paper', or 'scissors'.\")\u001b[0m\n\u001b[1;37m                                                         ^\u001b[0m\n\u001b[1;31mIndentationError\u001b[0m\u001b[1;31m:\u001b[0m expected an indented block\n"
     ]
    }
   ],
   "source": [
    "list = ['rock','paper','scissors', '']\n",
    "#R = 'scissors'\n",
    "#P = 'paper'\n",
    "#S = 'scissors'\n",
    "#list = [R, P, S]\n",
    "\n",
    "player1 = input('player1 enter rock, paper or scissors: ')\n",
    "player2 = input('player2 enter rock, paper or scissors: ')\n",
    "\n",
    "if player1 == list[0] and player2 == list[2]:\n",
    "    print(\"player1 wins\")\n",
    "elif player1 == list[2] and player2 == list[0]:\n",
    "    print(\"player2 wins\")\n",
    "\n",
    "elif player1 == list[1] and player2 == list[0]:\n",
    "    print(\"player1 wins\")\n",
    "elif player1 == list[0] and player2 == list[1]:\n",
    "    print(\"player2 wins\")\n",
    "\n",
    "elif player1 == list[2] and player2 == list[1]:\n",
    "    print(\"player1 wins\")\n",
    "elif player1 == list[1] and player1 == list[2]:\n",
    "    print(\"player2 wins\")\n",
    "\n",
    "elif player1 == list[0] and player2 == list[0]:\n",
    "    print(\"it's a tie\")\n",
    "elif player1 == list[1] and player2 == list[1]:\n",
    "    print(\"it's a tie\")\n",
    "elif player1 == list[2] and player2 == list[2]:\n",
    "    print(\"it's a tie\")\n",
    "    \n",
    "elif player1 == list[0] and player2 != list[0] or list[1] or list[2]:\n",
    "    print(\"Invalid input\")\n",
    "elif player1 == list[1] and player2 != list[0] or list[1] or list[2]:\n",
    "    print(\"Invalid input\")\n",
    "elif player1 == list[2] and player2 != list[0] or list[1] or list[2]:\n",
    "    print(\"Invalid input\")\n",
    "elif player1 != list[0] and player2 == list[0] or list[1] or list[2]:\n",
    "    print(\"Invalid input\")\n",
    "elif player1 != list[1] and player2 == list[0] or list[1] or list[2]:\n",
    "    print(\"Invalid input\")\n",
    "elif player1 != list[2] and player2 == list[0] or list[1] or list[2]:\n",
    "    print(\"Invalid input\")  \n",
    "else:\n",
    "    #player1 = input('player1 enter rock, paper or scissors: ')\n",
    "    #player2 = input('player2 enter rock, paper or scissors: ')\n",
    "    #print(\"please input 'rock','paper', or 'scissors'.\")"
   ]
  },
  {
   "cell_type": "code",
   "execution_count": 9,
   "metadata": {},
   "outputs": [
    {
     "name": "stdout",
     "output_type": "stream",
     "text": [
      "ropes are very important piece of equipment for climbing\n",
      "==============================================\n",
      "Skis are very important piece of equipment for Skiing\n",
      "==============================================\n",
      "spike boots are very important piece of equipment for sprinting\n",
      "==============================================\n",
      "climbing\n",
      "ropes\n",
      "Skiing\n",
      "Skis\n",
      "sprinting\n",
      "spike boots\n",
      "---------------------------------------------\n",
      "*******************************************\n",
      "skiing\n",
      "France\n",
      "Skis\n",
      "------------------------------------\n",
      "skiing is a good sport\n",
      "Skis are very important piece of equipment for skiing\n",
      "France is the least intresting destination for skiing\n",
      "===========================================\n",
      "Archery\n",
      "Isreal\n",
      "Bow & arrows\n",
      "------------------------------------\n",
      "Archery is a good sport\n",
      "Bow & arrows are very important piece of equipment for Archery\n",
      "Isreal is the least intresting destination for Archery\n"
     ]
    }
   ],
   "source": [
    "\"\"\"#part 1: 3rd party libraries install pandas using conda import pandas into your python script give pandas an alias \"pd\" \n",
    "#upon importing from pandas, import the DataFrame class part 2: local imports create a folder called import_challenge \n",
    "#and open it in vscode in the folder create 2 files called 'main.py' and 'utils.py' in the utils file, create a function \n",
    "#called 'greeting' which prints a nice greeting in the utils file, call this function in the main file, import the greeting \n",
    "#function from utils and run it notice how the function gets run twice? once when the file is imported, and once when we \n",
    "#called it directly. To stop this, let's put the direct call in an if name equals main block (feel free to look it up if \n",
    "#you forget the syntax) in this folder, create 2 folders called 'people' and 'sports' in the people folder, create a file\n",
    "#with a variable in, that is a list of the names of your group members import this list into the main file and print it\n",
    "#inside the sports folder, create another 2 folders, called \"skiing\" and \"climbing\" in each of these, define a simple \n",
    "#class which has an initialiser that prints the name of the sport and a method called equipment which prints a the name \n",
    "#of the sport and a piece of equipment you need to do it try to \n",
    "#import a module that does not exist, and handle this error with a try/except block\"\"\"\n",
    "\n",
    "\"\"\"task 2\"\"\"\n",
    "\n",
    "class Sport:\n",
    "    def __init__(self, type, equipment):   # initialization function\n",
    "        self.a = type                      # instance variable       \n",
    "        self.b = equipment                 # instance variable\n",
    "\n",
    "    def equipment(self):\n",
    "       print(self.b + ' are very important piece of equipment for '+ self.a)\n",
    "\n",
    "sport_1 = Sport('climbing','ropes')\n",
    "sport_1.equipment()\n",
    "print(\"==============================================\")    \n",
    "sport_2 = Sport('Skiing','Skis')\n",
    "sport_2.equipment()\n",
    "print(\"==============================================\")                   \n",
    "sport_3 = Sport('sprinting','spike boots')         \n",
    "sport_3.equipment()\n",
    "print(\"==============================================\") \n",
    "print(sport_1.a)\n",
    "print(sport_1.b)\n",
    "print(sport_2.a)\n",
    "print(sport_2.b)\n",
    "print(sport_3.a)\n",
    "print(sport_3.b)\n",
    "print(\"---------------------------------------------\")   \n",
    "#print(snow_sport.__dict__)\n",
    "#print(race_sport.__dict__)\n",
    "\n",
    "\"\"\"task 1\"\"\"\n",
    "class Sport:\n",
    "    def __init__(self, type, location, equipment): # function\n",
    "        self.a = type                      # instance variable\n",
    "        self.b = location                  # instance variable\n",
    "        self.c = equipment                 # instance variable\n",
    "        \n",
    "    def Equipment(self):\n",
    "        print(self.a)\n",
    "        print(self.b)\n",
    "        print(self.c)\n",
    "        print(\"------------------------------------\") \n",
    "        print(self.a + ' is a good sport')\n",
    "        print(self.c + ' are very important piece of equipment for '+ self.a)\n",
    "        print(self.b + ' is the least intresting destination for ' + self.a)\n",
    "                      \n",
    "sport_1 = Sport('skiing','France','Skis')\n",
    "print(\"*******************************************\")\n",
    "sport_1.Equipment()\n",
    "print(\"===========================================\")\n",
    "sport_2 = Sport('Archery', 'Isreal', 'Bow & arrows')\n",
    "sport_2.Equipment()\n",
    "\n",
    "\n",
    "#sport_1 = Sport('Skiing','France', 'Skis')                   # Object\n",
    "#sport_2 = Sport('sprinting','United kingdom', 'spike boots') # Object\n",
    "#print(sport_1.a)\n",
    "#print(sport_2.a)\n",
    "#print(sport_1.b)\n",
    "#print(sport_2.b)\n",
    "#print(sport_1.c)\n",
    "#print(sport_2.c)\n",
    "#print(snow_sport.__dict__)\n",
    "#print(race_sport.__dict__)\n"
   ]
  },
  {
   "cell_type": "code",
   "execution_count": 10,
   "metadata": {},
   "outputs": [
    {
     "name": "stdout",
     "output_type": "stream",
     "text": [
      "Oops...it seems something went wrong.\n",
      "Ensure the module you are trying to import exists.\n",
      "+++++++++++++++++++++++++++++++++++++++++++++++++++++++++++++++++++++++++++\n",
      "Invalid Username\n"
     ]
    }
   ],
   "source": [
    "\n",
    "\"\"\"task 3\"\"\"\n",
    "\n",
    "\"\"\" The try block lets you test a block of code for errors.\n",
    "The except block lets you handle the error.\n",
    "The else block lets you execute code when there is no error.\n",
    "The finally block lets you execute code, regardless of the result of \n",
    "the try- and except blocks. \"\"\"\n",
    "\n",
    "try:\n",
    "    import decagon\n",
    "    decagon()\n",
    "    x = decagon()\n",
    "    print(x)\n",
    "except:\n",
    "    print(\"Oops...it seems something went wrong.\\nEnsure the module you are trying to import exists.\")\n",
    "\n",
    "print (\"+++++++++++++++++++++++++++++++++++++++++++++++++++++++++++++++++++++++++++\")\n",
    "\n",
    "text = input('Username:')\n",
    "try:\n",
    "    Numb = int(text)\n",
    "    print(Numb)\n",
    "except:\n",
    "    print(\"Invalid Username\")"
   ]
  },
  {
   "cell_type": "code",
   "execution_count": null,
   "metadata": {},
   "outputs": [],
   "source": []
  },
  {
   "cell_type": "markdown",
   "metadata": {},
   "source": [
    "### Iteration Examples"
   ]
  },
  {
   "cell_type": "code",
   "execution_count": 3,
   "metadata": {},
   "outputs": [
    {
     "name": "stdout",
     "output_type": "stream",
     "text": [
      "prime numb =  1\n",
      "prime numb =  2\n",
      "prime numb =  3\n",
      "prime numb =  5\n",
      "prime numb =  7\n",
      "prime numb =  11\n",
      "prime numb =  13\n",
      "prime numb =  17\n",
      "-----------------------------------------------------------\n",
      "1\n",
      "2\n",
      "3\n",
      "5\n",
      "7\n",
      "11\n",
      "13\n",
      "17\n",
      "+++++++++++++++++++++++++++++++++++++++++++++++++++++++++++\n",
      "prime numbers:  1\n",
      "prime numbers:  2\n",
      "prime numbers:  3\n",
      "prime numbers:  5\n",
      "prime numbers:  7\n",
      "prime numbers:  11\n",
      "prime numbers:  13\n",
      "prime numbers:  17\n"
     ]
    }
   ],
   "source": [
    "prime_no =[1, 2, 3, 5, 7, 11, 13, 17]\n",
    "tuple_sq = (1, 4, 9, 16, 25, 36, 49,)\n",
    "\n",
    "for x in prime_no:\n",
    "    print('prime numb = ',x)\n",
    "print('-----------------------------------------------------------')\n",
    "for elements in prime_no:\n",
    "    print(elements)\n",
    "print('+++++++++++++++++++++++++++++++++++++++++++++++++++++++++++')\n",
    "for elements in prime_no:\n",
    "    print('prime numbers: ', elements)"
   ]
  }
 ],
 "metadata": {
  "kernelspec": {
   "display_name": "Python 3.9.12 ('base')",
   "language": "python",
   "name": "python3"
  },
  "language_info": {
   "codemirror_mode": {
    "name": "ipython",
    "version": 3
   },
   "file_extension": ".py",
   "mimetype": "text/x-python",
   "name": "python",
   "nbconvert_exporter": "python",
   "pygments_lexer": "ipython3",
   "version": "3.9.13"
  },
  "orig_nbformat": 4,
  "vscode": {
   "interpreter": {
    "hash": "a89ae35b9bd922d7bfaaacfab61ea85c5fed69f839212b212dc397716d0e5726"
   }
  }
 },
 "nbformat": 4,
 "nbformat_minor": 2
}
