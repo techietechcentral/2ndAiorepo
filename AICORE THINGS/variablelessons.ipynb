{
 "cells": [
  {
   "cell_type": "markdown",
   "metadata": {},
   "source": []
  },
  {
   "cell_type": "markdown",
   "metadata": {},
   "source": [
    " ### Comments"
   ]
  },
  {
   "cell_type": "markdown",
   "metadata": {},
   "source": [
    "##### Are any texts written after a # symbol. Hence python will not attempt to run such lin of text"
   ]
  },
  {
   "cell_type": "markdown",
   "metadata": {},
   "source": [
    "##### List of Pyton functions\n",
    "##### 1. type\n",
    "##### 2. print"
   ]
  },
  {
   "cell_type": "markdown",
   "metadata": {},
   "source": [
    "### Data types"
   ]
  },
  {
   "cell_type": "code",
   "execution_count": 47,
   "metadata": {},
   "outputs": [
    {
     "data": {
      "text/plain": [
       "int"
      ]
     },
     "execution_count": 47,
     "metadata": {},
     "output_type": "execute_result"
    }
   ],
   "source": [
    "# Integers\n",
    "## How to call a function (I am calling the 'type' \"function\" below)\n",
    "\n",
    "type(3)"
   ]
  },
  {
   "cell_type": "code",
   "execution_count": 48,
   "metadata": {},
   "outputs": [
    {
     "data": {
      "text/plain": [
       "float"
      ]
     },
     "execution_count": 48,
     "metadata": {},
     "output_type": "execute_result"
    }
   ],
   "source": [
    "# Float\n",
    "## How to call a function (I am calling the 'type' \"function\" below)\n",
    "type(5.7)"
   ]
  },
  {
   "cell_type": "code",
   "execution_count": 49,
   "metadata": {},
   "outputs": [
    {
     "data": {
      "text/plain": [
       "NoneType"
      ]
     },
     "execution_count": 49,
     "metadata": {},
     "output_type": "execute_result"
    }
   ],
   "source": [
    "# NoneType\n",
    "type(None)"
   ]
  },
  {
   "cell_type": "code",
   "execution_count": 50,
   "metadata": {},
   "outputs": [
    {
     "data": {
      "text/plain": [
       "int"
      ]
     },
     "execution_count": 50,
     "metadata": {},
     "output_type": "execute_result"
    }
   ],
   "source": [
    "# integer\n",
    "type(0)"
   ]
  },
  {
   "cell_type": "code",
   "execution_count": 51,
   "metadata": {},
   "outputs": [
    {
     "data": {
      "text/plain": [
       "bool"
      ]
     },
     "execution_count": 51,
     "metadata": {},
     "output_type": "execute_result"
    }
   ],
   "source": [
    "# Boolean\n",
    "type(False)"
   ]
  },
  {
   "cell_type": "code",
   "execution_count": 52,
   "metadata": {},
   "outputs": [
    {
     "data": {
      "text/plain": [
       "bool"
      ]
     },
     "execution_count": 52,
     "metadata": {},
     "output_type": "execute_result"
    }
   ],
   "source": [
    "type(True)"
   ]
  },
  {
   "cell_type": "code",
   "execution_count": 53,
   "metadata": {},
   "outputs": [
    {
     "data": {
      "text/plain": [
       "str"
      ]
     },
     "execution_count": 53,
     "metadata": {},
     "output_type": "execute_result"
    }
   ],
   "source": [
    "# String\n",
    "type('Hello World!')"
   ]
  },
  {
   "cell_type": "code",
   "execution_count": 54,
   "metadata": {},
   "outputs": [
    {
     "name": "stdout",
     "output_type": "stream",
     "text": [
      "1\n",
      "\n",
      "\n",
      "\n",
      "2\n",
      "----------------------------------------------\n",
      "1\n",
      "\n",
      "2\n"
     ]
    }
   ],
   "source": [
    "# The print() Function\n",
    "# In the previous section, we called the variable. Here, we learn how to display it.\n",
    "# The print() function displays the output rather than only returning it. In Jupyter Notebook, this often makes no practical difference; however, when working in other IDEs, you may not see the output unless you print it.\n",
    "# This becomes evident when attempting to see two outputs from a cell. Jupyter Notebook only shows the latest call.\n",
    "# print() statements can be used to display multiple outputs.\n",
    "# We can specify the 'end' parameter inside the print() function to stipulate how a print() statement ends.\n",
    "# For example, end = \"\\n\\n\" prints a new line after the print() output, which can be useful for improving the readability of the output.\n",
    "# A blank print() statement also prints a new line.\n",
    "\n",
    "# using end to give a new line\n",
    "a = 1\n",
    "b = 2\n",
    "print(a, end=\"\\n\\n\\n\\n\")\n",
    "print(b)\n",
    "print('----------------------------------------------')\n",
    "# using a blank print statement to give a new line\n",
    "print(a)\n",
    "print()\n",
    "print(b)\n"
   ]
  },
  {
   "cell_type": "code",
   "execution_count": 55,
   "metadata": {},
   "outputs": [
    {
     "name": "stdout",
     "output_type": "stream",
     "text": [
      "hello world\n"
     ]
    }
   ],
   "source": [
    "## Concatenation\n",
    "print(\"hello\" + \" world\")"
   ]
  },
  {
   "cell_type": "code",
   "execution_count": 1,
   "metadata": {},
   "outputs": [
    {
     "name": "stdout",
     "output_type": "stream",
     "text": [
      "hello world\n",
      "Hello world\n",
      "Hello world\n",
      "Hello world\n",
      "HELLO WORLD\n"
     ]
    }
   ],
   "source": [
    "## Capitalization turns the first letter of a string to upper case.\n",
    "## Capitalization is a METHOD\n",
    "\n",
    "print('hello world')\n",
    "\n",
    "print(\"hello world\".capitalize())\n",
    "\n",
    "x = \"hello world\"     \n",
    "print(x.capitalize()) # no need to insert the variable x in quotation marks\n",
    "\n",
    "var1 = \"hello world\"  \n",
    "print(var1.capitalize()) # no need to insert the variable var in quotation marks\n",
    "\n",
    "# upper METHOD turns all the letters of a string to upper case.\n",
    "var1 = \"hello world\"  \n",
    "print(var1.upper())\n",
    "\n"
   ]
  },
  {
   "cell_type": "code",
   "execution_count": 57,
   "metadata": {},
   "outputs": [
    {
     "name": "stdout",
     "output_type": "stream",
     "text": [
      "hello world\n"
     ]
    }
   ],
   "source": [
    "## lower METHOD turns all the letters of a string to upper case.\n",
    "var2 = \"HELLO WORLD\"  \n",
    "print(var2.lower())"
   ]
  },
  {
   "cell_type": "code",
   "execution_count": 3,
   "metadata": {},
   "outputs": [
    {
     "name": "stdout",
     "output_type": "stream",
     "text": [
      "This print statement was created in Python\n"
     ]
    }
   ],
   "source": [
    "my_first_print = \"This print statement was created in Python\"\n",
    "print(my_first_print)"
   ]
  },
  {
   "cell_type": "code",
   "execution_count": 10,
   "metadata": {},
   "outputs": [
    {
     "name": "stdout",
     "output_type": "stream",
     "text": [
      "I will be 38 years this year\n"
     ]
    }
   ],
   "source": [
    "age = 38\n",
    "print(\"I will be\",age, \"years old this year\")"
   ]
  },
  {
   "cell_type": "code",
   "execution_count": 2,
   "metadata": {},
   "outputs": [
    {
     "name": "stdout",
     "output_type": "stream",
     "text": [
      "5 packs of tomatoes each costs = £ 3.35\n",
      "5 packs of 3 washing sponges each costs = £ 13.5\n",
      "5 packs of A litre of juice each costs = £ 8.75\n",
      "5 packs of 20m of foil each costs = £ 15.0\n",
      "5 packs of 180g sugar each costs = £ 5.5\n",
      "Total (without VAT)= £ 9.22\n",
      "Total (with 20% VAT)= £ 11.064\n",
      "Round-up Total + 20% VAT)= £ 11.06\n"
     ]
    }
   ],
   "source": [
    "# Calculate a groups shopping bills.\n",
    "# How much would it cost for 5 people if each person needs:\n",
    "#Assign the value to total\n",
    "#Provide your answer as a printed variable called total.\n",
    "#These prices do not include VAT. Calculate the VAT on the total, assuming that VAT is 20%.\n",
    "#Then round it appropriately to two decimal places.\n",
    "\n",
    "A = \"A pack of tomatoes\"\n",
    "B = \"3 washing sponges\"\n",
    "C = \"A litre of juice\"\n",
    "D = \"20m of foil\"\n",
    "E = \"180g sugar\"\n",
    "\n",
    "A = 0.67\n",
    "B = 2.70\n",
    "C = 1.75\n",
    "D = 3.00\n",
    "E = 1.10\n",
    "\n",
    "print(\"5 packs of tomatoes each costs = £\", 5 * A)\n",
    "print(\"5 packs of 3 washing sponges each costs = £\", 5 * B)\n",
    "print(\"5 packs of A litre of juice each costs = £\", 5 * C)\n",
    "print(\"5 packs of 20m of foil each costs = £\", 5 * D)\n",
    "print(\"5 packs of 180g sugar each costs = £\", 5 * E)\n",
    "print(\"Total (without VAT)= £\",A + B + C + D + E)\n",
    "print(\"Total (with 20% VAT)= £\",(0.2 * (A + B + C + D + E) + (A + B + C + D + E)))\n",
    "print(\"Round-up Total + 20% VAT)= £\",round((0.2 * (A + B + C + D + E) + (A + B + C + D + E)), 2))"
   ]
  },
  {
   "cell_type": "code",
   "execution_count": 58,
   "metadata": {},
   "outputs": [
    {
     "name": "stdout",
     "output_type": "stream",
     "text": [
      "['First', 'impressions', 'count', 'with', 'our', 'non-professional', 'hi-tech', 'photography.']\n",
      "['First impressions count with our non', 'professional hi', 'tech photography.']\n",
      "['First impressi', 'ns c', 'unt with ', 'ur n', 'n-pr', 'fessi', 'nal hi-tech ph', 't', 'graphy.']\n"
     ]
    }
   ],
   "source": [
    "# List (data tytpe)\n",
    "# split METHOD splits comments or sentences wherever it is pecified in the split method brackets\n",
    "\n",
    "x = \"First impressions count with our non-professional hi-tech photography.\"\n",
    "print(x.split())      # slipts sentence where spaces are located\n",
    "\n",
    "x = \"First impressions count with our non-professional hi-tech photography.\"\n",
    "print(x.split('-'))   # slipts sentence where hyphens are located\n",
    "\n",
    "x = \"First impressions count with our non-professional hi-tech photography.\"\n",
    "print(x.split('o'))   # slipts sentence where 'o' are located\n"
   ]
  },
  {
   "cell_type": "code",
   "execution_count": 59,
   "metadata": {},
   "outputs": [
    {
     "name": "stdout",
     "output_type": "stream",
     "text": [
      "Hello Troy\n"
     ]
    }
   ],
   "source": [
    "#f- String\n",
    "name = \"Troy\"\n",
    "print(f\"Hello {name}\") # f-strings starts with an f just before the first quote"
   ]
  },
  {
   "cell_type": "code",
   "execution_count": 60,
   "metadata": {},
   "outputs": [
    {
     "name": "stdout",
     "output_type": "stream",
     "text": [
      "P\n",
      "T\n"
     ]
    }
   ],
   "source": [
    "## indexing\n",
    "\n",
    "word = 'PYTHON'\n",
    "print(word[0])\n",
    "print(word[2])\n",
    "\n"
   ]
  },
  {
   "cell_type": "code",
   "execution_count": 61,
   "metadata": {},
   "outputs": [
    {
     "data": {
      "text/plain": [
       "'O'"
      ]
     },
     "execution_count": 61,
     "metadata": {},
     "output_type": "execute_result"
    }
   ],
   "source": [
    "word[4]"
   ]
  },
  {
   "cell_type": "code",
   "execution_count": 62,
   "metadata": {},
   "outputs": [
    {
     "data": {
      "text/plain": [
       "'O'"
      ]
     },
     "execution_count": 62,
     "metadata": {},
     "output_type": "execute_result"
    }
   ],
   "source": [
    "word[-2]"
   ]
  },
  {
   "cell_type": "code",
   "execution_count": 63,
   "metadata": {},
   "outputs": [
    {
     "name": "stdout",
     "output_type": "stream",
     "text": [
      "\n",
      "\n",
      "\n",
      "\n",
      "\n",
      "H\n",
      "e\n",
      "l\n",
      "l\n",
      "o\n",
      " \n",
      "W\n",
      "o\n",
      "r\n",
      "l\n",
      "d\n"
     ]
    }
   ],
   "source": [
    "## String Indexing and Slicing ##\n",
    "# Strings are iterable, meaning that they can return their elements one at a time.\n",
    "# Strings are also immutable, meaning that their elements cannot be changed once assigned.\n",
    "# They must be REASSIGNED to change them.\n",
    "# Each character in a string is one element; this includes spaces and punctuation marks.\n",
    "# Indexing enables us to call back one element.\n",
    "# Slicing enables us to call back a range of elements.\n",
    "print(\"\\n\\n\")\n",
    "# In Python, indexing starts at 0 (zero).\n",
    "# slicing is inclusive at the lower bound (including).\n",
    "# slicing is exclusive at the upper bound (up to, but not including the upper bound).\n",
    "print (\"\\n\")\n",
    "my_first_string = \"Hello World\"\n",
    "print(my_first_string[0])\n",
    "print(my_first_string[1])\n",
    "print(my_first_string[2])\n",
    "print(my_first_string[3])\n",
    "print(my_first_string[4])\n",
    "print(my_first_string[5])\n",
    "print(my_first_string[6])\n",
    "print(my_first_string[7])\n",
    "print(my_first_string[8])\n",
    "print(my_first_string[9])\n",
    "print(my_first_string[10])"
   ]
  },
  {
   "cell_type": "code",
   "execution_count": 64,
   "metadata": {},
   "outputs": [
    {
     "name": "stdout",
     "output_type": "stream",
     "text": [
      "ell\n",
      "ello \n",
      "ello\n",
      "ello Wo\n",
      "Hello Wo\n",
      "o\n",
      "o \n",
      "Worl\n",
      "W\n",
      "Wo\n",
      "-------------------------------------------\n",
      "Worl\n",
      "Worl\n"
     ]
    }
   ],
   "source": [
    "# Slicing\n",
    "# Slicing enables us to call back a range of elements.\n",
    "# Use a colon to indicate a slicing operation; for example, 1:4 returns the 2nd (index 1),\n",
    "# 3rd (index 2) and 4th (index 3) elements, but not the 5th (index 4):\n",
    "my_first_string = \"Hello World\"\n",
    "# print(my_first_string[lower bound:upper bound]) --illustration\n",
    "print(my_first_string[1:4])\n",
    "print(my_first_string[1:6])\n",
    "print(my_first_string[1:5])\n",
    "print(my_first_string[1:8])\n",
    "print(my_first_string[0:8])\n",
    "print(my_first_string[4:5])\n",
    "print(my_first_string[4:6])\n",
    "print(my_first_string[6:10])\n",
    "print(my_first_string[6:7])\n",
    "print(my_first_string[6:8])\n",
    "\n",
    "print('-------------------------------------------')\n",
    "print(my_first_string[-5:-1])\n",
    "print(my_first_string[6:10])"
   ]
  },
  {
   "cell_type": "code",
   "execution_count": 65,
   "metadata": {},
   "outputs": [
    {
     "name": "stdout",
     "output_type": "stream",
     "text": [
      "ello World\n",
      "World\n",
      " World\n",
      "ld\n",
      "-------------------------------------------\n",
      "Hel\n",
      "Hel\n",
      "Hello Wor\n",
      "Hello Worl\n",
      "Hello \n",
      "Hello W\n",
      "He\n"
     ]
    }
   ],
   "source": [
    "# In the absence of the upper bound, the slicing starts with the 1st index\n",
    "# indicated and displays everything beyond:\n",
    "my_first_string = \"Hello World\"\n",
    "print(my_first_string[1:])\n",
    "print(my_first_string[6:])\n",
    "print(my_first_string[5:])\n",
    "print(my_first_string[9:])\n",
    "print('-------------------------------------------')\n",
    "# In the absence of the lower bound, the slicing starts from index 0 up to, but not including, the upper bound:\n",
    "my_first_string = \"Hello World\"\n",
    "print(my_first_string[:3])\n",
    "print(my_first_string[0:3])\n",
    "print(my_first_string[:9])\n",
    "print(my_first_string[:10])\n",
    "print(my_first_string[:6])\n",
    "print(my_first_string[:7])\n",
    "print(my_first_string[:2])"
   ]
  },
  {
   "cell_type": "code",
   "execution_count": 66,
   "metadata": {},
   "outputs": [
    {
     "data": {
      "text/plain": [
       "'Hello World'"
      ]
     },
     "execution_count": 66,
     "metadata": {},
     "output_type": "execute_result"
    }
   ],
   "source": [
    "my_first_string = \"Hello World\"\n",
    "my_first_string[:5] + my_first_string[5:]\n",
    "\n"
   ]
  },
  {
   "cell_type": "code",
   "execution_count": 67,
   "metadata": {},
   "outputs": [
    {
     "data": {
      "text/plain": [
       "'Hello World'"
      ]
     },
     "execution_count": 67,
     "metadata": {},
     "output_type": "execute_result"
    }
   ],
   "source": [
    "my_first_string = \"Hello World\"\n",
    "my_first_string[:1] + my_first_string[1:]"
   ]
  },
  {
   "cell_type": "code",
   "execution_count": 25,
   "metadata": {},
   "outputs": [
    {
     "data": {
      "text/plain": [
       "'Hello World'"
      ]
     },
     "execution_count": 25,
     "metadata": {},
     "output_type": "execute_result"
    }
   ],
   "source": [
    "my_first_string = \"Hello World\"\n",
    "my_first_string[:9] + my_first_string[9:]"
   ]
  },
  {
   "cell_type": "code",
   "execution_count": 69,
   "metadata": {},
   "outputs": [
    {
     "data": {
      "text/plain": [
       "'PYTHON'"
      ]
     },
     "execution_count": 69,
     "metadata": {},
     "output_type": "execute_result"
    }
   ],
   "source": [
    "word = \"PYTHON\"\n",
    "word[:1] + word[1:]"
   ]
  },
  {
   "cell_type": "code",
   "execution_count": 70,
   "metadata": {},
   "outputs": [
    {
     "data": {
      "text/plain": [
       "'PYTHON'"
      ]
     },
     "execution_count": 70,
     "metadata": {},
     "output_type": "execute_result"
    }
   ],
   "source": [
    "word = \"PYTHON\"\n",
    "word[:3] + word[3:]"
   ]
  },
  {
   "cell_type": "code",
   "execution_count": 71,
   "metadata": {},
   "outputs": [
    {
     "data": {
      "text/plain": [
       "'PYTHON'"
      ]
     },
     "execution_count": 71,
     "metadata": {},
     "output_type": "execute_result"
    }
   ],
   "source": [
    "word = \"PYTHON\"\n",
    "word[:5] + word[5:]"
   ]
  },
  {
   "cell_type": "markdown",
   "metadata": {},
   "source": [
    "##### Arithmetic operations\n"
   ]
  },
  {
   "cell_type": "code",
   "execution_count": 1,
   "metadata": {},
   "outputs": [
    {
     "name": "stdout",
     "output_type": "stream",
     "text": [
      "6\n",
      "9\n",
      "9\n",
      "6\n",
      "1\n",
      "2\n",
      "5.0\n",
      "None\n",
      "7\n",
      "83\n"
     ]
    }
   ],
   "source": [
    "print(4 + 2)\n",
    "print(10 - 1)\n",
    "print(3 ** 2)\n",
    "print(3 * 2)\n",
    "print(5 % 2)\n",
    "type(print(5 // 2))\n",
    "x = print(25 / 5)\n",
    "print(x) \n",
    "type(x)\n",
    "\n",
    "x = 2 + 5\n",
    "print(x)\n",
    "\n",
    "x = 6 + 77\n",
    "print(x)\n",
    "\n"
   ]
  },
  {
   "cell_type": "markdown",
   "metadata": {},
   "source": [
    "##### Booleans and Comparison Operators\n",
    "###### -Learning Objectives-\n",
    "###### > Understand the basics of the Boolean data type (bool).\n",
    "###### > Learn how to use comparison operators.\n",
    "###### > Learn how to use boolean operators.\n",
    "###### Booleans are data forms with only two possible values: True or False. These are actually Python keywords; therefore, you can create a boolean using them."
   ]
  },
  {
   "cell_type": "code",
   "execution_count": 73,
   "metadata": {},
   "outputs": [
    {
     "data": {
      "text/plain": [
       "bool"
      ]
     },
     "execution_count": 73,
     "metadata": {},
     "output_type": "execute_result"
    }
   ],
   "source": [
    "bool_1 = True\n",
    "bool_2 = False\n",
    "type(bool_1)\n",
    "\n"
   ]
  },
  {
   "cell_type": "code",
   "execution_count": 74,
   "metadata": {},
   "outputs": [
    {
     "name": "stdout",
     "output_type": "stream",
     "text": [
      "True\n",
      "___________________________________________\n",
      "False\n"
     ]
    }
   ],
   "source": [
    "\n",
    "my_str = 'Hello'\n",
    "print(bool(my_str))\n",
    "print('___________________________________________')\n",
    "empty_str = ''\n",
    "print(bool(empty_str))"
   ]
  },
  {
   "cell_type": "code",
   "execution_count": 75,
   "metadata": {},
   "outputs": [],
   "source": [
    "# Booleans function in Python as they do in maths. Comparison operators that return booleans based on whether the comparison is true or not:\n",
    "\n",
    "# (<) less than\n",
    "# (>) more than\n",
    "# (<=) less than or equal to\n",
    "# (>=) more than or equal to\n",
    "# (==) equal to (single = is assignment)\n",
    "# (!=) not equal,\n",
    "# are used to evaluate equality/inequality.\n",
    "\n",
    "# Keywords are employed to chain/modify boolean operators:\n",
    "\n",
    "# and\n",
    "# or\n",
    "# not"
   ]
  },
  {
   "cell_type": "code",
   "execution_count": 76,
   "metadata": {},
   "outputs": [
    {
     "data": {
      "text/plain": [
       "True"
      ]
     },
     "execution_count": 76,
     "metadata": {},
     "output_type": "execute_result"
    }
   ],
   "source": [
    "1 < 2"
   ]
  },
  {
   "cell_type": "code",
   "execution_count": 77,
   "metadata": {},
   "outputs": [
    {
     "data": {
      "text/plain": [
       "False"
      ]
     },
     "execution_count": 77,
     "metadata": {},
     "output_type": "execute_result"
    }
   ],
   "source": [
    "1 >= 2"
   ]
  },
  {
   "cell_type": "code",
   "execution_count": 78,
   "metadata": {},
   "outputs": [
    {
     "data": {
      "text/plain": [
       "True"
      ]
     },
     "execution_count": 78,
     "metadata": {},
     "output_type": "execute_result"
    }
   ],
   "source": [
    "# and/or for boolean-comparison chaining.\n",
    "1 < 2 and 10 < 20"
   ]
  },
  {
   "cell_type": "code",
   "execution_count": 79,
   "metadata": {},
   "outputs": [
    {
     "data": {
      "text/plain": [
       "False"
      ]
     },
     "execution_count": 79,
     "metadata": {},
     "output_type": "execute_result"
    }
   ],
   "source": [
    "1 < 2 and 2 > 5"
   ]
  },
  {
   "cell_type": "code",
   "execution_count": 80,
   "metadata": {},
   "outputs": [
    {
     "data": {
      "text/plain": [
       "True"
      ]
     },
     "execution_count": 80,
     "metadata": {},
     "output_type": "execute_result"
    }
   ],
   "source": [
    "1 < 2 or 2 > 5"
   ]
  },
  {
   "cell_type": "code",
   "execution_count": 81,
   "metadata": {},
   "outputs": [
    {
     "data": {
      "text/plain": [
       "False"
      ]
     },
     "execution_count": 81,
     "metadata": {},
     "output_type": "execute_result"
    }
   ],
   "source": [
    "# use not to return the opposite boolean.\n",
    "not 100 > 1"
   ]
  },
  {
   "cell_type": "code",
   "execution_count": 82,
   "metadata": {},
   "outputs": [
    {
     "name": "stdout",
     "output_type": "stream",
     "text": [
      "False\n",
      "True\n",
      "True\n",
      "True\n"
     ]
    }
   ],
   "source": [
    "# use the 'in' keyword to determine if an item is iterable (also works for strings).\n",
    "print(\"x\" in [1,2,3])\n",
    "\n",
    "print(\"x\" in ['x','y','z'])\n",
    "\n",
    "print(\"a\" in \"a world\")\n",
    "\n",
    "print('f' in \"flipflop\")"
   ]
  },
  {
   "cell_type": "markdown",
   "metadata": {},
   "source": [
    "### Python List\n",
    "#### Chracterictics of List: \n",
    "#### > They are mutable (items in the list are changable) and they are ordered (they have a defined order)"
   ]
  },
  {
   "cell_type": "code",
   "execution_count": 83,
   "metadata": {},
   "outputs": [
    {
     "name": "stdout",
     "output_type": "stream",
     "text": [
      "yellow\n",
      "33\n",
      "\n",
      "['yellow', 'blue']\n",
      "[765, 'car', 'green', 34, True, 4.5, None, 0.667, 2, 78, 90, 33]\n",
      "\n",
      "['yellow', 'blue', 765, 'car', 'green', 34, True, 4.5]\n",
      "[None, 0.667, 2, 78, 90, 33]\n"
     ]
    }
   ],
   "source": [
    "# List (This is another python data type)\n",
    "## A List represents multiples variable packed in one\n",
    "## They can contain various datya types at a time.\n",
    "## The ITEMS in the List are all indexed; meaning they can be \n",
    "## they are usualy enclosed in [ square brackets] and seperated by comma\n",
    "\n",
    "my_list = [\"yellow\", \"blue\", 765, \"car\", \"green\", 34, True, 4.5, None, 0.667, 2, 78, 90, 33] \n",
    "\n",
    "# INDEXING\n",
    "print(my_list[0])\n",
    "print(my_list[-1])\n",
    "print()\n",
    "print(my_list[:2])\n",
    "print(my_list[2:])\n",
    "print()\n",
    "print(my_list[:8])\n",
    "print(my_list[8:])\n",
    "\n",
    "\n",
    "\n",
    "\n"
   ]
  },
  {
   "cell_type": "code",
   "execution_count": 84,
   "metadata": {},
   "outputs": [
    {
     "name": "stdout",
     "output_type": "stream",
     "text": [
      "['blue', 765, 'car', 'green', 34, True]\n",
      "['blue', 765, 'car', 'green', 34, True, 4.5, None, 0.667, 2, 78, 90, 33]\n",
      "[]\n",
      "['yellow', 'blue', 765, 'car', 'green', 34, True, 4.5, None, 0.667, 2, 78, 90, 33]\n",
      "[]\n",
      "\n",
      "[34, True, 4.5, None, 0.667, 2, 78, 90, 33, 'yellow', 'blue', 765, 'car', 'green']\n",
      "['yellow', 'blue', 765, 'car', 'green', 34, True, 4.5, None, 0.667, 2, 78, 90, 33]\n",
      "\n",
      "['yellow', 'blue', 765, 34, True, 4.5, None, 0.667, 2, 78, 90, 33]\n",
      "['yellow', None, 0.667, 2, 78, 90, 33]\n"
     ]
    }
   ],
   "source": [
    "# SLICING \n",
    "print(my_list[1:7])\n",
    "print(my_list[1:20])\n",
    "print(my_list[12:-2])\n",
    "print(my_list[0:200])\n",
    "print(my_list[12:0])\n",
    "print()\n",
    "print(my_list[5:] + my_list[:5])\n",
    "print(my_list[:5] + my_list[5:])\n",
    "print()\n",
    "print(my_list[:3] + my_list[5:])\n",
    "print(my_list[:1] + my_list[8:])"
   ]
  },
  {
   "cell_type": "code",
   "execution_count": 85,
   "metadata": {},
   "outputs": [
    {
     "name": "stdout",
     "output_type": "stream",
     "text": [
      "['yellow', None, 0.667, 2, 78, 90, 33]\n"
     ]
    }
   ],
   "source": [
    "print(my_list[:1] + my_list[8:])"
   ]
  },
  {
   "cell_type": "code",
   "execution_count": 90,
   "metadata": {},
   "outputs": [
    {
     "name": "stdout",
     "output_type": "stream",
     "text": [
      "['blue', 'green', 4.5]\n",
      "['blue']\n",
      "['blue', 'car', 34, 4.5, 0.667, 78, 33]\n"
     ]
    }
   ],
   "source": [
    "# 3rd index\n",
    "my_list = [\"yellow\", \"blue\", 765, \"car\", \"green\", 34, True, 4.5, None, 0.667, 2, 78, 90, 33] \n",
    "print(my_list[1:9:3])\n",
    "print(my_list[1:3:3])\n",
    "print(my_list[1:14:2])"
   ]
  },
  {
   "cell_type": "code",
   "execution_count": 87,
   "metadata": {},
   "outputs": [
    {
     "data": {
      "text/plain": [
       "14"
      ]
     },
     "execution_count": 87,
     "metadata": {},
     "output_type": "execute_result"
    }
   ],
   "source": [
    "## The .len() function counts the number of items in a data type containing multiple elements.\n",
    "len(my_list)"
   ]
  },
  {
   "cell_type": "code",
   "execution_count": 5,
   "metadata": {},
   "outputs": [
    {
     "name": "stdout",
     "output_type": "stream",
     "text": [
      "['yellow', 'blue', 765, 'bongo', 'green', 34, True, 4.5, None, 0.667, 2, 78, 90, 33]\n"
     ]
    }
   ],
   "source": [
    "## Mutability of Python List\n",
    "my_list = [\"yellow\", \"blue\", 765, \"car\", \"green\", 34, True, 4.5, None, 0.667, 2, 78, 90, 33] \n",
    "\n",
    "my_list[3] = \"bongo\"\n",
    "print(my_list)"
   ]
  },
  {
   "cell_type": "code",
   "execution_count": 6,
   "metadata": {},
   "outputs": [
    {
     "name": "stdout",
     "output_type": "stream",
     "text": [
      "[33, 90, 78, 2, 0.667, None, 4.5, True, 34, 'green', 'bongo', 765, 'blue', 'yellow']\n"
     ]
    }
   ],
   "source": [
    "## In-place function operation (reverses order of items in a list)\n",
    "\n",
    "my_list.reverse()\n",
    "print(my_list)\n"
   ]
  },
  {
   "cell_type": "code",
   "execution_count": 7,
   "metadata": {},
   "outputs": [
    {
     "name": "stdout",
     "output_type": "stream",
     "text": [
      "[33, 90, 78, 2, 0.667, None, 4.5, True, 34, 'green', 'bongo', 765, 'blue', 'yellow', 'horse']\n"
     ]
    }
   ],
   "source": [
    "## Append function can be used add items to list including adding another list to the current\n",
    "\n",
    "my_list.append('horse')\n",
    "print(my_list)"
   ]
  },
  {
   "cell_type": "code",
   "execution_count": 8,
   "metadata": {},
   "outputs": [
    {
     "data": {
      "text/plain": [
       "['John', 'Lennon', 'Paul', 'George', 'Ringo']"
      ]
     },
     "execution_count": 8,
     "metadata": {},
     "output_type": "execute_result"
    }
   ],
   "source": [
    "# The .insert() method adds an item to a specific index. Note that lists are 0 indexed.\n",
    "my_namelist = ['John', 'Paul', 'George', 'Ringo']\n",
    "my_namelist.insert(1, 'Lennon')\n",
    "my_namelist"
   ]
  },
  {
   "cell_type": "code",
   "execution_count": 9,
   "metadata": {},
   "outputs": [
    {
     "name": "stdout",
     "output_type": "stream",
     "text": [
      "_______________________________________________________________________\n",
      "[33, 90, 78, 2, 0.667, None, 4.5, True, 34, 'green', 'bongo', 765, 'blue', 'yellow', 'horse', 1, 3, 5, 7, 9, 11]\n"
     ]
    }
   ],
   "source": [
    "## Extend function combines a list of individual item  to another list\n",
    "\n",
    "my_list.extend([1, 3, 5, 7, 9, 11])\n",
    "print('_______________________________________________________________________')\n",
    "print(my_list)"
   ]
  },
  {
   "cell_type": "code",
   "execution_count": 2,
   "metadata": {},
   "outputs": [
    {
     "ename": "ValueError",
     "evalue": "list.remove(x): x not in list",
     "output_type": "error",
     "traceback": [
      "\u001b[1;31m---------------------------------------------------------------------------\u001b[0m",
      "\u001b[1;31mValueError\u001b[0m                                Traceback (most recent call last)",
      "\u001b[1;32mc:\\Users\\User_Central\\Desktop\\AICORE THINGS\\variablelessons.ipynb Cell 58\u001b[0m in \u001b[0;36m<cell line: 3>\u001b[1;34m()\u001b[0m\n\u001b[0;32m      <a href='vscode-notebook-cell:/c%3A/Users/User_Central/Desktop/AICORE%20THINGS/variablelessons.ipynb#Y111sZmlsZQ%3D%3D?line=0'>1</a>\u001b[0m \u001b[39m## Remove function removes a item from a List\u001b[39;00m\n\u001b[0;32m      <a href='vscode-notebook-cell:/c%3A/Users/User_Central/Desktop/AICORE%20THINGS/variablelessons.ipynb#Y111sZmlsZQ%3D%3D?line=1'>2</a>\u001b[0m my_list \u001b[39m=\u001b[39m [\u001b[39m\"\u001b[39m\u001b[39myellow\u001b[39m\u001b[39m\"\u001b[39m, \u001b[39m\"\u001b[39m\u001b[39mblue\u001b[39m\u001b[39m\"\u001b[39m, \u001b[39m765\u001b[39m, \u001b[39m\"\u001b[39m\u001b[39mcar\u001b[39m\u001b[39m\"\u001b[39m, \u001b[39m\"\u001b[39m\u001b[39mgreen\u001b[39m\u001b[39m\"\u001b[39m, \u001b[39m34\u001b[39m, \u001b[39mTrue\u001b[39;00m, \u001b[39m4.5\u001b[39m, \u001b[39mNone\u001b[39;00m, \u001b[39m0.667\u001b[39m, \u001b[39m2\u001b[39m, \u001b[39m78\u001b[39m, \u001b[39m90\u001b[39m, \u001b[39m33\u001b[39m]\n\u001b[1;32m----> <a href='vscode-notebook-cell:/c%3A/Users/User_Central/Desktop/AICORE%20THINGS/variablelessons.ipynb#Y111sZmlsZQ%3D%3D?line=2'>3</a>\u001b[0m my_list\u001b[39m.\u001b[39;49mremove(\u001b[39m'\u001b[39;49m\u001b[39m,\u001b[39;49m\u001b[39m'\u001b[39;49m)\n\u001b[0;32m      <a href='vscode-notebook-cell:/c%3A/Users/User_Central/Desktop/AICORE%20THINGS/variablelessons.ipynb#Y111sZmlsZQ%3D%3D?line=3'>4</a>\u001b[0m my_list\n",
      "\u001b[1;31mValueError\u001b[0m: list.remove(x): x not in list"
     ]
    }
   ],
   "source": [
    "## Remove function removes a item from a List\n",
    "my_list = [\"yellow\", \"blue\", 765, \"car\", \"green\", 34, True, 4.5, None, 0.667, 2, 78, 90, 33]\n",
    "my_list.remove(34)\n",
    "my_list"
   ]
  },
  {
   "cell_type": "code",
   "execution_count": 218,
   "metadata": {},
   "outputs": [
    {
     "name": "stdout",
     "output_type": "stream",
     "text": [
      "['yellow', 'blue', 765, 'car', 'green', 34, True, 4.5, None, 0.667, 2, 78, 90, 33]\n",
      "green\n"
     ]
    },
    {
     "data": {
      "text/plain": [
       "['yellow', 'blue', 765, 34, True, 4.5, None, 0.667, 2, 78, 90, 33]"
      ]
     },
     "execution_count": 218,
     "metadata": {},
     "output_type": "execute_result"
    }
   ],
   "source": [
    "## Pop removes item from a List by index\n",
    "my_list = [\"yellow\", \"blue\", 765, \"car\", \"green\", 34, True, 4.5, None, 0.667, 2, 78, 90, 33]\n",
    "print(my_list)\n",
    "\n",
    "my_list.pop(3)\n",
    "print (my_list.pop(3))\n",
    "my_list\n",
    "\n"
   ]
  },
  {
   "cell_type": "code",
   "execution_count": 2,
   "metadata": {},
   "outputs": [
    {
     "name": "stdout",
     "output_type": "stream",
     "text": [
      "['yellow', 'blue', 765, 'car', 'green', 34, True, 4.5, None, 0.667, 2, 78, 90, 33, 'Yoko']\n"
     ]
    }
   ],
   "source": [
    "# Elements can be added to lists; however, this does not change the original list.\n",
    "my_list = [\"yellow\", \"blue\", 765, \"car\", \"green\", 34, True, 4.5, None, 0.667, 2, 78, 90, 33]\n",
    "my_list = my_list + ['Yoko']\n",
    "print(my_list)"
   ]
  },
  {
   "cell_type": "code",
   "execution_count": 7,
   "metadata": {},
   "outputs": [
    {
     "name": "stdout",
     "output_type": "stream",
     "text": [
      "['yellow', 'blue', 765, 'car', 'green', 34, True, 4.5, None, 0.667, 2, 78, 90, 33, 'Yoko']\n"
     ]
    }
   ],
   "source": [
    "# To change the original list, you must reassign it.\n",
    "my_list = my_list + ['Yoko']\n",
    "\n",
    "print(my_list)"
   ]
  },
  {
   "cell_type": "code",
   "execution_count": 21,
   "metadata": {},
   "outputs": [
    {
     "data": {
      "text/plain": [
       "['yellow', 'BLUE', 765, 'car']"
      ]
     },
     "execution_count": 21,
     "metadata": {},
     "output_type": "execute_result"
    }
   ],
   "source": [
    "# The list can be reassigned to a slice of the original list.\n",
    "\n",
    "my_list = my_list[:4]\n",
    "\n",
    "my_list"
   ]
  },
  {
   "cell_type": "code",
   "execution_count": 20,
   "metadata": {},
   "outputs": [
    {
     "data": {
      "text/plain": [
       "['yellow', 'BLUE', 765, 'car']"
      ]
     },
     "execution_count": 20,
     "metadata": {},
     "output_type": "execute_result"
    }
   ],
   "source": [
    "# Elements in a list can be reassigned to new values.\n",
    "my_list[1] = my_list[1].upper()\n",
    "my_list"
   ]
  },
  {
   "cell_type": "code",
   "execution_count": 240,
   "metadata": {},
   "outputs": [
    {
     "name": "stdout",
     "output_type": "stream",
     "text": [
      "['yellow', 'BLUE', 765, 'car', 'yellow', 'BLUE', 765, 'car']\n"
     ]
    },
    {
     "data": {
      "text/plain": [
       "['yellow', 'BLUE', 765, 'car']"
      ]
     },
     "execution_count": 240,
     "metadata": {},
     "output_type": "execute_result"
    }
   ],
   "source": [
    "# The list can be multiplied by integer x to replicate the original list x times.\n",
    "print(my_list * 2)\n",
    "# As mentioned previously, to make changes to the original list, it must be reassigned.\n",
    "my_list"
   ]
  },
  {
   "cell_type": "code",
   "execution_count": 12,
   "metadata": {},
   "outputs": [
    {
     "data": {
      "text/plain": [
       "[[1, 2, 3], [4, 5, 6], [7, 8, 9]]"
      ]
     },
     "execution_count": 12,
     "metadata": {},
     "output_type": "execute_result"
    }
   ],
   "source": [
    "# A list can be contained within another list.\n",
    "# The concept of inserting a list into another is called NESTING.\n",
    "lst_1=[1,2,3]\n",
    "lst_2=[4,5,6]\n",
    "lst_3=[7,8,9]\n",
    "\n",
    "# A nested list is formed by making a list of lists.\n",
    "nest_list = [lst_1,lst_2,lst_3]\n",
    "nest_list\n",
    "\n"
   ]
  },
  {
   "cell_type": "code",
   "execution_count": 13,
   "metadata": {},
   "outputs": [
    {
     "name": "stdout",
     "output_type": "stream",
     "text": [
      "Accessing second item [4, 5, 6]\n",
      "Accessing second item of the second item 5\n"
     ]
    }
   ],
   "source": [
    "## Note that it is possible to nest lists several levels deep.\n",
    "print('Accessing second item', nest_list[1])\n",
    "print('Accessing second item of the second item', nest_list[1][1])"
   ]
  },
  {
   "cell_type": "code",
   "execution_count": 14,
   "metadata": {},
   "outputs": [
    {
     "data": {
      "text/plain": [
       "[[1, 2, 3], [4, 5, 6, 7, 8, 9]]"
      ]
     },
     "execution_count": 14,
     "metadata": {},
     "output_type": "execute_result"
    }
   ],
   "source": [
    "# Using the plus operator will add up indivudual items in a List to the existing\n",
    "nest_list = [lst_1,lst_2 + lst_3]\n",
    "nest_list"
   ]
  },
  {
   "cell_type": "markdown",
   "metadata": {},
   "source": [
    "### List Functions and Methods\n",
    "#####  Here, we review some of the most common functions and methods that apply to lists.\n",
    "##### The difference between functions and methods is that functions are not bound to a specific data type, whereas methods are. In other words, a method is a function that is specific to a data type.\n",
    "##### Therefore, all methods are functions, but not all functions are methods."
   ]
  },
  {
   "cell_type": "code",
   "execution_count": 19,
   "metadata": {},
   "outputs": [
    {
     "name": "stdout",
     "output_type": "stream",
     "text": [
      "4\n"
     ]
    },
    {
     "data": {
      "text/plain": [
       "'BLUE'"
      ]
     },
     "execution_count": 19,
     "metadata": {},
     "output_type": "execute_result"
    }
   ],
   "source": [
    "# We redefine my_list in order not to lose track of its contents.\n",
    "# Note that the len function DOES NOT work for numbers or floats. It works for data types that are collections, such as lists or strings.\n",
    "\n",
    "print(len(my_list))\n",
    "my_list[1]"
   ]
  },
  {
   "cell_type": "markdown",
   "metadata": {},
   "source": [
    "### min() and max() to find the highest and lowest items in a list"
   ]
  },
  {
   "cell_type": "code",
   "execution_count": 1,
   "metadata": {},
   "outputs": [
    {
     "name": "stdout",
     "output_type": "stream",
     "text": [
      "1\n",
      "42\n"
     ]
    }
   ],
   "source": [
    "# Apply min() and max() to find the highest and lowest items in a list, respectively.\n",
    "num_list = [3, 7, 1, 9, 42]\n",
    "print(min(num_list))\n",
    "print(max(num_list))\n",
    "\n"
   ]
  },
  {
   "cell_type": "code",
   "execution_count": 2,
   "metadata": {},
   "outputs": [
    {
     "name": "stdout",
     "output_type": "stream",
     "text": [
      "blue\n",
      "yellow\n"
     ]
    }
   ],
   "source": [
    "# When used in lists with strings, they work in alphabetical order.\n",
    "my_colourlist = [\"yellow\", \"blue\", \"green\", \"red\", \"grey\", \"white\"]\n",
    "print(min(my_colourlist))\n",
    "print(max(my_colourlist))"
   ]
  },
  {
   "cell_type": "code",
   "execution_count": null,
   "metadata": {},
   "outputs": [],
   "source": []
  }
 ],
 "metadata": {
  "kernelspec": {
   "display_name": "test_env",
   "language": "python",
   "name": "python3"
  },
  "language_info": {
   "codemirror_mode": {
    "name": "ipython",
    "version": 3
   },
   "file_extension": ".py",
   "mimetype": "text/x-python",
   "name": "python",
   "nbconvert_exporter": "python",
   "pygments_lexer": "ipython3",
   "version": "3.10.6"
  },
  "orig_nbformat": 4,
  "vscode": {
   "interpreter": {
    "hash": "400c7cb2320b53585c61c6846b414f9c6b8895095cee9ed979461ab8d1a3d04f"
   }
  }
 },
 "nbformat": 4,
 "nbformat_minor": 2
}
