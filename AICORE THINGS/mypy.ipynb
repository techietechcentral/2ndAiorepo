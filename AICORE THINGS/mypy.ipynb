{
 "cells": [
  {
   "cell_type": "code",
   "execution_count": null,
   "metadata": {},
   "outputs": [],
   "source": []
  },
  {
   "cell_type": "markdown",
   "metadata": {},
   "source": [
    "### My Python Practice codes"
   ]
  },
  {
   "cell_type": "code",
   "execution_count": 12,
   "metadata": {},
   "outputs": [
    {
     "name": "stdout",
     "output_type": "stream",
     "text": [
      "    *\n",
      "   * *\n",
      "  *   *\n",
      " *     *\n",
      "***   ***\n",
      "  *   *\n",
      "  *   *\n",
      "  *****\n",
      "    *\n",
      "   * *\n",
      "  *   *\n",
      " *     *\n",
      "***   ***\n",
      "  *   *\n",
      "  *   *\n",
      "  *****\n"
     ]
    }
   ],
   "source": [
    "print(\"    *\")\n",
    "print(\"   * *\")\n",
    "print(\"  *   *\")\n",
    "print(\" *     *\")\n",
    "print(\"***   ***\")\n",
    "print(\"  *   *\")\n",
    "print(\"  *   *\")\n",
    "print(\"  *****\")\n",
    "\n",
    "print(\"    *\\n   * *\\n  *   *\\n *     *\\n***   ***\\n  *   *\\n  *   *\\n  *****\")\n",
    "\n"
   ]
  },
  {
   "cell_type": "code",
   "execution_count": 13,
   "metadata": {},
   "outputs": [
    {
     "name": "stdout",
     "output_type": "stream",
     "text": [
      "         *\n",
      "       *   *\n",
      "     *       *\n",
      "   *           *\n",
      " *****       ***** \n",
      "     *       *\n",
      "     *       *\n",
      "     *********\n",
      "         *\n",
      "       *   *\n",
      "     *       *\n",
      "   *           *\n",
      " *****       ***** \n",
      "     *       *\n",
      "     *       *\n",
      "     *********\n"
     ]
    }
   ],
   "source": [
    "print(\"         *\")\n",
    "print(\"       *   *\")\n",
    "print(\"     *       *\")\n",
    "print(\"   *           *\")\n",
    "print(\" *****       ***** \")\n",
    "print(\"     *       *\")\n",
    "print(\"     *       *\")\n",
    "print(\"     *********\")\n",
    "\n",
    "print(\"         *\\n       *   *\\n     *       *\\n   *           *\\n *****       ***** \\n     *       *\\n     *       *\\n     *********\")\n"
   ]
  },
  {
   "cell_type": "code",
   "execution_count": 14,
   "metadata": {},
   "outputs": [
    {
     "name": "stdout",
     "output_type": "stream",
     "text": [
      "         *\n",
      "        * *\n",
      "       *   *\n",
      "      *     *\n",
      "     *       *\n",
      "    *         *\n",
      "   *           *\n",
      "  *             *\n",
      " *****       ***** \n",
      "     *       *\n",
      "     *       *\n",
      "     *       *\n",
      "     *       *\n",
      "     *       *\n",
      "     *       *\n",
      "     *********\n",
      "\n",
      "         *\n",
      "        * *\n",
      "       *   *\n",
      "      *     *\n",
      "     *       *\n",
      "    *         *\n",
      "   *           *\n",
      "  *             *\n",
      " *               *\n",
      "******       ******\n",
      "     *       *\n",
      "     *       *\n",
      "     *       *\n",
      "     *       *\n",
      "     *       *\n",
      "     *       *\n",
      "     *********\n"
     ]
    }
   ],
   "source": [
    "print(\"         *\")\n",
    "print(\"        * *\")\n",
    "print(\"       *   *\")\n",
    "print(\"      *     *\")\n",
    "print(\"     *       *\")\n",
    "print(\"    *         *\")\n",
    "print(\"   *           *\")\n",
    "print(\"  *             *\")\n",
    "print(\" *****       ***** \")\n",
    "print(\"     *       *\")\n",
    "print(\"     *       *\")\n",
    "print(\"     *       *\")\n",
    "print(\"     *       *\")\n",
    "print(\"     *       *\")\n",
    "print(\"     *       *\")\n",
    "print(\"     *********\")\n",
    "\n",
    "print(\"\\n         *\\n        * *\\n       *   *\\n      *     *\\n     *       *\\n    *         *\\n   *           *\\n  *             *\\n *               *\\n******       ******\\n     *       *\\n     *       *\\n     *       *\\n     *       *\\n     *       *\\n     *       *\\n     *********\")\n"
   ]
  },
  {
   "cell_type": "code",
   "execution_count": 5,
   "metadata": {},
   "outputs": [
    {
     "name": "stdout",
     "output_type": "stream",
     "text": [
      "    *         *     \n",
      "   * *       * *    \n",
      "  *   *     *   *   \n",
      " *     *   *     *  \n",
      "***   *** ***   *** \n",
      "  *   *     *   *   \n",
      "  *   *     *   *   \n",
      "  *****     *****   \n"
     ]
    }
   ],
   "source": [
    "print(\"    *     \"*2)\n",
    "print(\"   * *    \"*2)\n",
    "print(\"  *   *   \"*2)\n",
    "print(\" *     *  \"*2)\n",
    "print(\"***   *** \"*2)\n",
    "print(\"  *   *   \"*2)\n",
    "print(\"  *   *   \"*2)\n",
    "print(\"  *****   \"*2)"
   ]
  },
  {
   "cell_type": "code",
   "execution_count": 6,
   "metadata": {},
   "outputs": [
    {
     "name": "stdout",
     "output_type": "stream",
     "text": [
      "         *                 *        \n",
      "        * *               * *       \n",
      "       *   *             *   *      \n",
      "      *     *           *     *     \n",
      "     *       *         *       *    \n",
      "    *         *       *         *   \n",
      "   *           *     *           *  \n",
      "  *             *   *             * \n",
      " *****       ***** *****       *****\n",
      "     *       *         *       *    \n",
      "     *       *         *       *    \n",
      "     *       *         *       *    \n",
      "     *       *         *       *    \n",
      "     *       *         *       *    \n",
      "     *       *         *       *    \n",
      "     *********         *********    \n",
      "\"I'm\"\n",
      "\"\"Leanring\"\"\n",
      "\"\"\"python\"\"\"\n"
     ]
    }
   ],
   "source": [
    "print(\"         *        \"*2)\n",
    "print(\"        * *       \"*2)\n",
    "print(\"       *   *      \"*2)\n",
    "print(\"      *     *     \"*2)\n",
    "print(\"     *       *    \"*2)\n",
    "print(\"    *         *   \"*2)\n",
    "print(\"   *           *  \"*2)\n",
    "print(\"  *             * \"*2)\n",
    "print(\" *****       *****\"*2)\n",
    "print(\"     *       *    \"*2)  \n",
    "print(\"     *       *    \"*2)\n",
    "print(\"     *       *    \"*2)\n",
    "print(\"     *       *    \"*2)\n",
    "print(\"     *       *    \"*2)\n",
    "print(\"     *       *    \"*2)\n",
    "print(\"     *********    \"*2)\n",
    "\n",
    "print(\"\\\"I'm\\\"\\n\\\"\\\"Leanring\\\"\\\"\\n\\\"\\\"\\\"python\\\"\\\"\\\"\")"
   ]
  },
  {
   "cell_type": "code",
   "execution_count": 7,
   "metadata": {},
   "outputs": [
    {
     "name": "stdout",
     "output_type": "stream",
     "text": [
      "3,5,6\n",
      "-------------------------\n",
      "14\n",
      "-------------------------\n",
      "total number of apples:= 14\n",
      "0.8055555555555556\n"
     ]
    }
   ],
   "source": [
    "john=3\n",
    "mary=5\n",
    "adam=6\n",
    "print(john, mary, adam, sep=\",\")\n",
    "print(\"-------------------------\")\n",
    "total_apples=john+mary+adam\n",
    "print(total_apples)\n",
    "print(\"-------------------------\")\n",
    "print(\"total number of apples:=\", total_apples )\n",
    "\n",
    "a=1\n",
    "b=4\n",
    "c=5\n",
    "d=9\n",
    "print(((a*d)+(c*b))/(b*d))"
   ]
  },
  {
   "cell_type": "code",
   "execution_count": 9,
   "metadata": {},
   "outputs": [
    {
     "name": "stdout",
     "output_type": "stream",
     "text": [
      "7.38 miles is equal to 11.88 kilometers\n",
      "12.25 kilometers is equal to 7.61 miles\n"
     ]
    }
   ],
   "source": [
    "kilometers = 12.25\n",
    "miles = 7.38\n",
    "\n",
    "miles_to_kilometers = miles*1.61\n",
    "kilometers_to_miles = kilometers*(1/1.61)\n",
    "\n",
    "\n",
    "print(miles, \"miles is equal to\", round(miles_to_kilometers, 2), \"kilometers\")\n",
    "print(kilometers, \"kilometers is equal to\", round(kilometers_to_miles, 2), \"miles\")\n"
   ]
  },
  {
   "cell_type": "code",
   "execution_count": null,
   "metadata": {},
   "outputs": [],
   "source": []
  }
 ],
 "metadata": {
  "kernelspec": {
   "display_name": "Python 3.9.12 ('base')",
   "language": "python",
   "name": "python3"
  },
  "language_info": {
   "codemirror_mode": {
    "name": "ipython",
    "version": 3
   },
   "file_extension": ".py",
   "mimetype": "text/x-python",
   "name": "python",
   "nbconvert_exporter": "python",
   "pygments_lexer": "ipython3",
   "version": "3.9.12"
  },
  "orig_nbformat": 4,
  "vscode": {
   "interpreter": {
    "hash": "a89ae35b9bd922d7bfaaacfab61ea85c5fed69f839212b212dc397716d0e5726"
   }
  }
 },
 "nbformat": 4,
 "nbformat_minor": 2
}
