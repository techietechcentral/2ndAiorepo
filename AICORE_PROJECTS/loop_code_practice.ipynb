{
 "cells": [
  {
   "cell_type": "markdown",
   "metadata": {},
   "source": [
    "#### Counting Numbers\n",
    "#### Write a program that prints the numbers from 1 to 50.\n",
    "#### Use a while loop to do so\n",
    "#### Use a for loop to do so"
   ]
  },
  {
   "cell_type": "markdown",
   "metadata": {},
   "source": [
    "- Critical note"
   ]
  },
  {
   "cell_type": "code",
   "execution_count": 77,
   "metadata": {},
   "outputs": [
    {
     "name": "stdout",
     "output_type": "stream",
     "text": [
      "[1, 2, 3, 4, 5, 6, 7, 8, 9, 10, 11, 12, 13, 14, 15, 16, 17, 18, 19, 20, 21, 22, 23, 24, 25, 26, 27, 28, 29, 30, 31, 32, 33, 34, 35, 36, 37, 38, 39, 40, 41, 42, 43, 44, 45, 46, 47, 48, 49, 50]\n"
     ]
    }
   ],
   "source": [
    "xlist = []\n",
    "x = 1\n",
    "while x < 51:\n",
    "    if x == 51:\n",
    "        break\n",
    "    #print(x)\n",
    "    xlist.append(x)\n",
    "    x +=1\n",
    "print(xlist)"
   ]
  },
  {
   "cell_type": "code",
   "execution_count": 73,
   "metadata": {},
   "outputs": [
    {
     "name": "stdout",
     "output_type": "stream",
     "text": [
      "[1, 2, 3, 4, 5, 6, 7, 8, 9, 10, 11, 12, 13, 14, 15, 16, 17, 18, 19, 20, 21, 22, 23, 24, 25, 26, 27, 28, 29, 30, 31, 32, 33, 34, 35, 36, 37, 38, 39, 40, 41, 42, 43, 44, 45, 46, 47, 48, 49, 50]\n"
     ]
    }
   ],
   "source": [
    "xlist =[]\n",
    "for x in range (1, 51):\n",
    "    #print(x)\n",
    "    xlist.append(x)\n",
    "print(xlist)"
   ]
  },
  {
   "cell_type": "code",
   "execution_count": 71,
   "metadata": {},
   "outputs": [
    {
     "name": "stdout",
     "output_type": "stream",
     "text": [
      "[2, 4, 6, 8, 10, 12, 14, 16, 18, 20, 22, 24, 26, 28, 30, 32, 34, 36, 38, 40, 42, 44, 46, 48, 50]\n"
     ]
    }
   ],
   "source": [
    "#Counting even Numbers\n",
    "#Write a program that prints the numbers from 1 to 50 only if the number is even.\n",
    "#Use a while loop to do so\n",
    "#Use a for loop to do so\n",
    "xlist =[]\n",
    "x = 2\n",
    "while x < 51:\n",
    "    if x == 51:\n",
    "        break\n",
    "    #print(x)\n",
    "    xlist.append(x)\n",
    "    x += 2\n",
    "print(xlist)\n",
    "    "
   ]
  },
  {
   "cell_type": "code",
   "execution_count": 60,
   "metadata": {},
   "outputs": [
    {
     "name": "stdout",
     "output_type": "stream",
     "text": [
      "[2, 4, 6, 8, 10, 12, 14, 16, 18, 20, 22, 24, 26, 28, 30, 32, 34, 36, 38, 40, 42, 44, 46, 48, 50]\n"
     ]
    }
   ],
   "source": [
    "alist = []\n",
    "for x in range (2, 51, 2):\n",
    "    alist.append(x)\n",
    "print(alist)"
   ]
  },
  {
   "cell_type": "code",
   "execution_count": 90,
   "metadata": {},
   "outputs": [
    {
     "name": "stdout",
     "output_type": "stream",
     "text": [
      "2550\n",
      "====================================================\n",
      "Total sum of even numbers bw 1 and 101 : 2550\n",
      "Total sum of even numbers bw 1 and 101 : 2500\n"
     ]
    }
   ],
   "source": [
    "#Counting even and Odd Numbers\n",
    "#Write a for loop to count the sum of all even numbers between 1 and 100\n",
    "#Write another for loop to count the sum of all odd numbers between 1 and 100\n",
    "\n",
    "A = sum(x for x in range (2, 101, 2)) # cowboy method\n",
    "print(A)\n",
    "print('====================================================')\n",
    "\n",
    "xlist = []\n",
    "for x in range(1, 101):\n",
    "    if x % 2 == 0:\n",
    "       xlist.append(x)\n",
    "print('Total sum of even numbers bw 1 and 101 :', sum(xlist))\n",
    "\n",
    "\n",
    "ylist = []\n",
    "for y in range(1, 101):\n",
    "    if y % 2 == 1 and y < 100:\n",
    "       ylist.append(y)\n",
    "print('Total sum of even numbers bw 1 and 101 :', sum(ylist))\n"
   ]
  },
  {
   "cell_type": "code",
   "execution_count": 97,
   "metadata": {},
   "outputs": [
    {
     "name": "stdout",
     "output_type": "stream",
     "text": [
      "[1, 2, 3, 4, 5, 6, 7, 8, 9, 10, 11, 12, 13, 14, 15, 16, 17, 18, 19, 20, 21, 22, 23, 24, 25, 26, 27, 28, 29, 30, 31, 32, 33, 34, 35, 36, 37, 38, 39, 40, 41, 42, 43, 44, 45, 46, 47, 48, 49, 50, 51, 52, 53, 54, 55, 56, 57, 58, 59, 60, 61, 62, 63, 64, 65, 66, 67, 68, 69, 70, 71, 72, 73, 74, 75, 76, 77, 78, 79, 80, 81, 82, 83, 84, 85, 86, 87, 88, 89, 90, 91, 92, 93, 94, 95, 96, 97, 98, 99, 100]\n",
      "==================================================================================\n",
      "[3, 6, 9, 12, 15, 18, 21, 24, 27, 30, 33, 36, 39, 42, 45, 48, 51, 54, 57, 60, 63, 66, 69, 72, 75, 78, 81, 84, 87, 90, 93, 96, 99]\n",
      "----------------------------------------------------------------------------------\n",
      "[1, 2, 'fizz', 4, 5, 'fizz', 7, 8, 'fizz', 10, 11, 'fizz', 13, 14, 'fizz', 16, 17, 'fizz', 19, 20, 'fizz', 22, 23, 'fizz', 25, 26, 'fizz', 28, 29, 'fizz', 31, 32, 'fizz', 34, 35, 'fizz', 37, 38, 'fizz', 40, 41, 'fizz', 43, 44, 'fizz', 46, 47, 'fizz', 49, 50, 'fizz', 52, 53, 'fizz', 55, 56, 'fizz', 58, 59, 'fizz', 61, 62, 'fizz', 64, 65, 'fizz', 67, 68, 'fizz', 70, 71, 'fizz', 73, 74, 'fizz', 76, 77, 'fizz', 79, 80, 'fizz', 82, 83, 'fizz', 85, 86, 'fizz', 88, 89, 'fizz', 91, 92, 'fizz', 94, 95, 'fizz', 97, 98, 'fizz', 100]\n",
      "----------------------------------------------------------------------------------\n",
      "[1, 2, 3, 4, 'Buzz', 6, 7, 8, 9, 'Buzz', 11, 12, 13, 14, 'Buzz', 16, 17, 18, 19, 'Buzz', 21, 22, 23, 24, 'Buzz', 26, 27, 28, 29, 'Buzz', 31, 32, 33, 34, 'Buzz', 36, 37, 38, 39, 'Buzz', 41, 42, 43, 44, 'Buzz', 46, 47, 48, 49, 'Buzz', 51, 52, 53, 54, 'Buzz', 56, 57, 58, 59, 'Buzz', 61, 62, 63, 64, 'Buzz', 66, 67, 68, 69, 'Buzz', 71, 72, 73, 74, 'Buzz', 76, 77, 78, 79, 'Buzz', 81, 82, 83, 84, 'Buzz', 86, 87, 88, 89, 'Buzz', 91, 92, 93, 94, 'Buzz', 96, 97, 98, 99, 'Buzz']\n",
      "----------------------------------------------------------------------------------\n",
      "[1, 2, 3, 4, 5, 6, 7, 8, 9, 10, 11, 12, 13, 14, 'FizzBuzz', 16, 17, 18, 19, 20, 21, 22, 23, 24, 25, 26, 27, 28, 29, 'FizzBuzz', 31, 32, 33, 34, 35, 36, 37, 38, 39, 40, 41, 42, 43, 44, 'FizzBuzz', 46, 47, 48, 49, 50, 51, 52, 53, 54, 55, 56, 57, 58, 59, 'FizzBuzz', 61, 62, 63, 64, 65, 66, 67, 68, 69, 70, 71, 72, 73, 74, 'FizzBuzz', 76, 77, 78, 79, 80, 81, 82, 83, 84, 85, 86, 87, 88, 89, 'FizzBuzz', 91, 92, 93, 94, 95, 96, 97, 98, 99, 100]\n"
     ]
    }
   ],
   "source": [
    "#FizzBuzz\n",
    "#Write a program that prints the numbers from 1 to 100.\n",
    "#For multiples of three print \"Fizz\" instead of the number\n",
    "#For multiples of five print \"Buzz\"\n",
    "#For numbers which are multiples of both three and five print \"FizzBuzz\"\n",
    "# Be careful with the order of the conditions. Remember that the condition that \n",
    "# is first met will be the one that will run, and the rest will be ignored.\n",
    "\n",
    "xlist = []\n",
    "for x in range(1, 101): #1\n",
    "        xlist.append(x)\n",
    "print(xlist)\n",
    "print('==================================================================================')\n",
    "\n",
    "\n",
    "ylist = []\n",
    "for y in range(1, 101):\n",
    "    if y % 3 == 0:\n",
    "        ylist.append(y)\n",
    "        #print(y)\n",
    "print(ylist)\n",
    "print('----------------------------------------------------------------------------------')\n",
    "\n",
    "ylist = []\n",
    "for y in range(1, 101):\n",
    "    if y % 3 == 0 and (y := 'fizz'):\n",
    "        ylist.append(y)\n",
    "    else:\n",
    "        ylist.append(y)\n",
    "print(ylist)\n",
    "print('----------------------------------------------------------------------------------')\n",
    "\n",
    "ylist = []\n",
    "for y in range(1, 101):\n",
    "    if y % 5 == 0 and (y := 'Buzz'):\n",
    "        ylist.append(y)\n",
    "    else:\n",
    "        ylist.append(y)\n",
    "print(ylist)\n",
    "print('----------------------------------------------------------------------------------')\n",
    "\n",
    "ylist = []\n",
    "for y in range(1, 101):\n",
    "    if y % 5 == 0 and y % 3 ==0 and (y := 'FizzBuzz'):\n",
    "        ylist.append(y)\n",
    "    else:\n",
    "        ylist.append(y)\n",
    "print(ylist)"
   ]
  },
  {
   "cell_type": "code",
   "execution_count": null,
   "metadata": {},
   "outputs": [],
   "source": [
    "#Simple Rock-Paper-Scissors\n",
    "#Write a program that checks which player wins a game of Rock Paper Scissors.\n",
    "\n",
    "#Download the next file .\n",
    "\n",
    "#The program asks two inputs from the user: player1 and player2. The inputs can be either 'rock', 'paper' or 'scissors'.\n",
    "\n",
    "#Code the logic of the game to see who wins. Print the result like: 'Player 1 wins' or 'Player 2 wins'\n",
    "#If one of the inputs is not 'rock', 'paper' or 'scissors', print 'Invalid input'\n",
    "#If both inputs are the same, print \"It's a tie\"\n",
    "#Test your code with the following inputs:\n",
    "\n",
    "#Player 1: scissors, Player 2: paper (This should print 'Player 1 wins')\n",
    "#Player 1: scissors, Player 2: rock (This should print 'Player 2 wins')\n",
    "#Player 1: paper, Player 2: paper (This should print 'It's a tie')\n",
    "#Player 1: rock, Player 2: lizzard (This should print 'Invalid input')\n",
    "\n",
    "\n",
    "list = ['rock','paper','scissors']\n",
    "#R = 'scissors'\n",
    "#P = 'paper'\n",
    "#S = 'scissors'\n",
    "#list = [R, P, S]\n",
    "\n",
    "player1 = input('player1 enter rock, paper or scissors: ')\n",
    "player2 = input('player2 enter rock, paper or scissors: ')\n",
    "\n",
    "if player1 == list[0] and player2 == list[2]:\n",
    "    print(\"player1 wins\")\n",
    "elif player1 == list[2] and player2 == list[0]:\n",
    "    print(\"player2 wins\")\n",
    "\n",
    "elif player1 == list[1] and player2 == list[0]:\n",
    "    print(\"player1 wins\")\n",
    "elif player1 == list[0] and player2 == list[1]:\n",
    "    print(\"player2 wins\")\n",
    "\n",
    "elif player1 == list[2] and player2 == list[1]:\n",
    "    print(\"player1 wins\")\n",
    "elif player1 == list[1] and player1 == list[2]:\n",
    "    print(\"player2 wins\")\n",
    "\n",
    "elif player1 == list[0] and player2 == list[0]:\n",
    "    print(\"it's a tie\")\n",
    "elif player1 == list[1] and player2 == list[1]:\n",
    "    print(\"it's a tie\")\n",
    "elif player1 == list[2] and player2 == list[2]:\n",
    "    \n",
    "    print(\"it's a tie\")  \n",
    "elif player1 == list[0] or list[1] or list[2] and player2 != list[0] or list[1] or list[2]:\n",
    "    print(\"Invalid input\")\n",
    "elif player1 != list[0] or list[1] or list[2] and player2 == list[0] or list[1] or list[2]:\n",
    "    print(\"Invalid input\")\n",
    "#elif player1 == list[-1] and player2 == list[-1]:\n",
    "    #print(\"please input 'rock','paper', or 'scissors'.\")"
   ]
  },
  {
   "cell_type": "markdown",
   "metadata": {},
   "source": [
    "##### Rock-Paper-Scissors with Rounds\n",
    "- Write a program that checks which player wins three rounds of Rock Paper Scissors.\n",
    "- list_1 = [1, 2, 3]\n",
    "- list_2 = [1, 2, 3]\n",
    "- if list_1 == list_2:\n",
    "    - print('The lists are the same.')\n",
    "- else:\n",
    "    - print('The lists are different.')\n",
    "- The program asks two inputs from the user: player1 and player2. The inputs can be either 'rock', 'paper' or 'scissors'.\n",
    "- Code the logic of the game to see who wins. Print the result in the format: \"Player 1 wins\" or \"Player 2 wins\"\n",
    "- If one of the inputs is not \"rock\", \"paper\" or \"scissors\", print \"Invalid input\"\n",
    "- If both inputs are the same, print \"It's a tie\"\n",
    "- Create two new variables, num_player_one_wins and num_player_two_wins, and use them to keep track of the number of wins each player has\n",
    "- Put the code inside a while loop that runs until one of the players has won three rounds"
   ]
  }
 ],
 "metadata": {
  "kernelspec": {
   "display_name": "Python 3.10.6 ('secondtest_env')",
   "language": "python",
   "name": "python3"
  },
  "language_info": {
   "codemirror_mode": {
    "name": "ipython",
    "version": 3
   },
   "file_extension": ".py",
   "mimetype": "text/x-python",
   "name": "python",
   "nbconvert_exporter": "python",
   "pygments_lexer": "ipython3",
   "version": "3.10.6"
  },
  "orig_nbformat": 4,
  "vscode": {
   "interpreter": {
    "hash": "f7e737508e320864f9730b912236e997794d80e5da8833e77c0e26b9118fc4e5"
   }
  }
 },
 "nbformat": 4,
 "nbformat_minor": 2
}
