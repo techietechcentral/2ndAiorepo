{
 "cells": [
  {
   "attachments": {},
   "cell_type": "markdown",
   "metadata": {},
   "source": [
    "#### Tuples\n",
    "- Tuples are like lists: flexible data input.\n",
    "- But they are immutable: cannot be changed once created. As mentioned, tuples are immutable, so you can't remove items from it\n",
    "- Therefore no append/extend/remove/pop methods and no item reassignment for tuples.\n",
    "- Useful for holding values in data that you do not want to be reassigned by accident.\n",
    "- Tuples are iterable so length can be checked with len() function\n",
    "\n",
    "\n",
    "#### Creating a Tuple\n",
    "- Tuples are represented by parentheses (). You can also create a tuple using the tuple function\n"
   ]
  },
  {
   "cell_type": "code",
   "execution_count": 16,
   "metadata": {},
   "outputs": [
    {
     "name": "stdout",
     "output_type": "stream",
     "text": [
      "(1, 2, 3)\n",
      "(9, 45, 90)\n",
      "('y', 56, 7890)\n",
      "(1, 'two', 3)\n",
      "_____________________\n",
      "<class 'tuple'>\n",
      "<class 'tuple'>\n",
      "<class 'tuple'>\n",
      "<class 'tuple'>\n"
     ]
    }
   ],
   "source": [
    "t = (1,2,3)\n",
    "x = (9, 45, 90)\n",
    "x2 = tuple([\"y\", 56, 7890])\n",
    "x3 = tuple([1, \"two\", 3])\n",
    "\n",
    "print(t)\n",
    "print(x)\n",
    "print(x2)\n",
    "print(x3)\n",
    "print(\"_____________________\")\n",
    "print(type(t))\n",
    "print(type(x))\n",
    "print(type(x2))\n",
    "print(type(x3))"
   ]
  },
  {
   "cell_type": "code",
   "execution_count": 21,
   "metadata": {},
   "outputs": [
    {
     "name": "stdout",
     "output_type": "stream",
     "text": [
      "11\n",
      "11\n",
      "The length of the tuple is 11\n",
      "The length of the tuple is 11\n"
     ]
    }
   ],
   "source": [
    "# check length with len() function\n",
    "t = (1,2,3,4,5,6,7,9,67,77,42)\n",
    "print(len(t))\n",
    "\n",
    "x = len(t)\n",
    "print(x)\n",
    "\n",
    "print(f\"The length of the tuple is {x}\")                 # the variable is created before the print statement\n",
    "print(\"The length of the tuple is {x}\".format(x=len(t))) # the variable x is builtin the print statement"
   ]
  },
  {
   "attachments": {},
   "cell_type": "markdown",
   "metadata": {},
   "source": [
    "#### Tuples' methods\n",
    "- Tuples allow you to check how many times an item is repeated in it. To do so, you can use the method .count()"
   ]
  },
  {
   "cell_type": "code",
   "execution_count": 26,
   "metadata": {},
   "outputs": [
    {
     "name": "stdout",
     "output_type": "stream",
     "text": [
      "3\n",
      "a occurs 3 times in the tuple\n",
      "a occurs 3 times in the tuple\n"
     ]
    }
   ],
   "source": [
    "# count instances using .count() method\n",
    "t2 = ('a', 'a', 'b', 'b', 'a')\n",
    "t2.count(\"a\")\n",
    "z = t2.count(\"a\")\n",
    "print(z)\n",
    "\n",
    "\n",
    "print(f\"a occurs {z} times in the tuple\")                           # the variable is created before the print statement\n",
    "print(\"a occurs {w} times in the tuple\".format(w=t2.count(\"a\")))  # the variable w is builtin the print statement"
   ]
  },
  {
   "attachments": {},
   "cell_type": "markdown",
   "metadata": {},
   "source": [
    "#### How to check the first occurrence of an element using the index() method"
   ]
  },
  {
   "cell_type": "code",
   "execution_count": 28,
   "metadata": {},
   "outputs": [
    {
     "name": "stdout",
     "output_type": "stream",
     "text": [
      "2\n",
      "b occurs first at index 2 in the tuple\n",
      "b occurs first at index 2 in the tuple\n"
     ]
    }
   ],
   "source": [
    "# find first index using .index() method\n",
    "t2.index(\"b\")\n",
    "y = t2.index(\"b\")\n",
    "print(y)\n",
    "\n",
    "print(f\"b occurs first at index {y} in the tuple\")                          # the variable is created before the print statement\n",
    "print(\"b occurs first at index {d} in the tuple\".format(d=t2.index(\"b\"))) # the variable d is builtin the print statement"
   ]
  },
  {
   "attachments": {},
   "cell_type": "markdown",
   "metadata": {},
   "source": [
    "#### Tuple Packing and Unpacking\n",
    "- One of the most powerful aspects of tuples is a technique called tuple unpacking.\n",
    "- This allows us to assign variables using commas from a single tuple in order.\n",
    "- The syntax works as below, although the brackets can be omitted, unless required to be clear.\n",
    "- Python 'unpacks' the tuple automatically and picks out the values and assigns them to the comma-separated variables:\n"
   ]
  },
  {
   "cell_type": "code",
   "execution_count": 29,
   "metadata": {},
   "outputs": [
    {
     "name": "stdout",
     "output_type": "stream",
     "text": [
      "a is equal to 1\n",
      "b is equal to 2\n",
      "c is equal to 3\n"
     ]
    }
   ],
   "source": [
    "a, b, c = (1, 2, 3)\n",
    "\n",
    "print(f'a is equal to {a}')\n",
    "print(f'b is equal to {b}')\n",
    "print(f'c is equal to {c}')"
   ]
  },
  {
   "attachments": {},
   "cell_type": "markdown",
   "metadata": {},
   "source": [
    "### milestone 3 Task 3.2 prerequisite Practice Excercise\n",
    "\n",
    "- Create an empty tuple without Python's built-in function\n",
    "- Create an empty tuple with Python's built-in function\n",
    "- Create a tuple that contains three different data types\n",
    "- Merge the two of the tuples you created using the + operator\n",
    "- Iterate over one of the tuples and print out tuples"
   ]
  },
  {
   "cell_type": "code",
   "execution_count": 30,
   "metadata": {},
   "outputs": [
    {
     "data": {
      "text/plain": [
       "tuple"
      ]
     },
     "execution_count": 30,
     "metadata": {},
     "output_type": "execute_result"
    }
   ],
   "source": [
    "# Create an empty tuple without Python's built-in function\n",
    "tuple1 = ()\n",
    "type(tuple1)"
   ]
  },
  {
   "cell_type": "code",
   "execution_count": 6,
   "metadata": {},
   "outputs": [
    {
     "data": {
      "text/plain": [
       "tuple"
      ]
     },
     "execution_count": 6,
     "metadata": {},
     "output_type": "execute_result"
    }
   ],
   "source": [
    "# Create an empty tuple with Python's built-in function\n",
    "tuple2 = tuple()\n",
    "type(tuple2)"
   ]
  },
  {
   "cell_type": "code",
   "execution_count": 37,
   "metadata": {},
   "outputs": [
    {
     "data": {
      "text/plain": [
       "tuple"
      ]
     },
     "execution_count": 37,
     "metadata": {},
     "output_type": "execute_result"
    }
   ],
   "source": [
    "tuple3 = tuple([])\n",
    "type(tuple3)"
   ]
  },
  {
   "cell_type": "code",
   "execution_count": 38,
   "metadata": {},
   "outputs": [
    {
     "data": {
      "text/plain": [
       "list"
      ]
     },
     "execution_count": 38,
     "metadata": {},
     "output_type": "execute_result"
    }
   ],
   "source": [
    "# another example of empty tuple without Python's built-in function\n",
    "tuple4 =([])\n",
    "type(tuple4)"
   ]
  },
  {
   "cell_type": "code",
   "execution_count": 9,
   "metadata": {},
   "outputs": [
    {
     "data": {
      "text/plain": [
       "tuple"
      ]
     },
     "execution_count": 9,
     "metadata": {},
     "output_type": "execute_result"
    }
   ],
   "source": [
    "# Create a tuple that contains three different data types\n",
    "\n",
    "tuple5 = (1, 'yes', 2.33)\n",
    "type(tuple5)"
   ]
  },
  {
   "cell_type": "code",
   "execution_count": 10,
   "metadata": {},
   "outputs": [
    {
     "name": "stdout",
     "output_type": "stream",
     "text": [
      "(1, 'yes', 2.33)\n"
     ]
    }
   ],
   "source": [
    "# Merge the two of the tuples you created using the + operator\n",
    "print(tuple5 + tuple2)\n"
   ]
  },
  {
   "cell_type": "code",
   "execution_count": 12,
   "metadata": {},
   "outputs": [
    {
     "name": "stdout",
     "output_type": "stream",
     "text": [
      "1\n"
     ]
    }
   ],
   "source": [
    "# Iterate over one of the tuples and print out tuples\n",
    "tuple5.count(2.33)\n"
   ]
  },
  {
   "cell_type": "code",
   "execution_count": 13,
   "metadata": {},
   "outputs": [
    {
     "name": "stdout",
     "output_type": "stream",
     "text": [
      "1\n"
     ]
    }
   ],
   "source": [
    "print(tuple5.count(2.33))"
   ]
  },
  {
   "attachments": {},
   "cell_type": "markdown",
   "metadata": {},
   "source": [
    "#### counting number of occurence in tuples\n",
    "- Count the number of i's in the tuple vowels = ('a', 'e', 'i', 'o', 'i', 'u')\n",
    "- Count the number of 7's in the tuple numbers = (1, 7, 2, 7, 3, 7, 4, 7, 5, 7, 6, 7, 7, 7)\n",
    "- Count the number of [1, 2, 3] lists and ('f', 'd') tuples in the tuple tuple = (1, 'f', [1, 2, 3], [4, 5], ('f', 'd'), ('f', 'd', 'e'), [1, 2, 3], 'a')"
   ]
  },
  {
   "cell_type": "code",
   "execution_count": 61,
   "metadata": {},
   "outputs": [
    {
     "data": {
      "text/plain": [
       "2"
      ]
     },
     "execution_count": 61,
     "metadata": {},
     "output_type": "execute_result"
    }
   ],
   "source": [
    "# Count the number of i's in the tuple vowels = ('a', 'e', 'i', 'o', 'i', 'u')\n",
    "\n",
    "tuple_vowels = ('a', 'e', 'i', 'o', 'i', 'u')\n",
    "tuple_vowels.count('i')"
   ]
  },
  {
   "cell_type": "code",
   "execution_count": 17,
   "metadata": {},
   "outputs": [
    {
     "data": {
      "text/plain": [
       "8"
      ]
     },
     "execution_count": 17,
     "metadata": {},
     "output_type": "execute_result"
    }
   ],
   "source": [
    "# Count the number of 7's in the tuple numbers = (1, 7, 2, 7, 3, 7, 4, 7, 5, 7, 6, 7, 7, 7)\n",
    "tuple_numbers = (1, 7, 2, 7, 3, 7, 4, 7, 5, 7, 6, 7, 7, 7)\n",
    "tuple_numbers.count(7)"
   ]
  },
  {
   "cell_type": "code",
   "execution_count": 27,
   "metadata": {},
   "outputs": [
    {
     "data": {
      "text/plain": [
       "(2, 1)"
      ]
     },
     "execution_count": 27,
     "metadata": {},
     "output_type": "execute_result"
    }
   ],
   "source": [
    "# Count the number of [1, 2, 3] lists and ('f', 'd') tuples in the tuple tuple = (1, 'f', [1, 2, 3], [4, 5], ('f', 'd'), ('f', 'd', 'e'), [1, 2, 3], 'a')\n",
    "tuple_tuple = (1, 'f', [1, 2, 3], [4, 5], ('f', 'd'), ('f', 'd', 'e'), [1, 2, 3], 'a')\n",
    "tuple_tuple.count([1,2,3]) , tuple_tuple. count(('f', 'd')) # This gives the result in one bracket"
   ]
  },
  {
   "cell_type": "code",
   "execution_count": 37,
   "metadata": {},
   "outputs": [
    {
     "name": "stdout",
     "output_type": "stream",
     "text": [
      "2 and 1\n"
     ]
    }
   ],
   "source": [
    "a = tuple_tuple.count([1,2,3])\n",
    "b = tuple_tuple. count(('f', 'd'))\n",
    "print(a,'and', b)\n"
   ]
  },
  {
   "attachments": {},
   "cell_type": "markdown",
   "metadata": {},
   "source": [
    "#### Indexing Tuples \n",
    "- You have a tuple vowels = ('a', 'e', 'i', 'o', 'i', 'u')\n",
    "\n",
    "- Find the first occurence of 'e' element\n",
    "- Find the first occurence of 'i' element\n",
    "- Find the first occurence of 'b' element. What does this return? What is the meaning of this error?\n",
    "- The index() method can take one to three parameters. We used one of them so far: element, the item to scan. The two other paramaters this method can take are: - start_index - scanning of the - element will start from the start_index - end_index - scanning of the element will stop at the end_index\n",
    "Find the first occurence of 'i' elemnts from index 4 to 8 in the following tuple alphabet = ('a', 'e', 'i', 'o', 'u', 'g', 'l', 'i', 'u')"
   ]
  },
  {
   "cell_type": "code",
   "execution_count": 62,
   "metadata": {},
   "outputs": [
    {
     "data": {
      "text/plain": [
       "2"
      ]
     },
     "execution_count": 62,
     "metadata": {},
     "output_type": "execute_result"
    }
   ],
   "source": [
    "# Find the first occurence of 'e' element in tuple_vowels = ('a', 'e', 'i', 'o', 'i', 'u')\n",
    "# Find the first occurence of 'i' element in tuple_vowels = ('a', 'e', 'i', 'o', 'i', 'u')\n",
    "tuple_vowels = ('a', 'e', 'i', 'o', 'i', 'u')\n",
    "\n",
    "\n",
    "tuple_vowels.index('e')\n",
    "tuple_vowels.index('i')\n",
    "\n"
   ]
  },
  {
   "cell_type": "code",
   "execution_count": 67,
   "metadata": {},
   "outputs": [
    {
     "data": {
      "text/plain": [
       "(1, 2)"
      ]
     },
     "execution_count": 67,
     "metadata": {},
     "output_type": "execute_result"
    }
   ],
   "source": [
    "# creating tuples from indexing. Just me experimenting!\n",
    "\n",
    "tuple_vowels.index('e'), tuple_vowels.index('i')"
   ]
  },
  {
   "cell_type": "code",
   "execution_count": null,
   "metadata": {},
   "outputs": [],
   "source": [
    "k = (tuple_vowels.index('e'), tuple_vowels.index('i'))\n",
    "type(k)"
   ]
  },
  {
   "cell_type": "code",
   "execution_count": 72,
   "metadata": {},
   "outputs": [
    {
     "data": {
      "text/plain": [
       "[1, 2]"
      ]
     },
     "execution_count": 72,
     "metadata": {},
     "output_type": "execute_result"
    }
   ],
   "source": [
    "# converting tuples to list. Just me experimenting!\n",
    "\n",
    "[tuple_vowels.index('e'), tuple_vowels.index('i')]\n",
    "\n"
   ]
  },
  {
   "cell_type": "code",
   "execution_count": 71,
   "metadata": {},
   "outputs": [
    {
     "data": {
      "text/plain": [
       "list"
      ]
     },
     "execution_count": 71,
     "metadata": {},
     "output_type": "execute_result"
    }
   ],
   "source": [
    "k = [tuple_vowels.index('e'), tuple_vowels.index('i')]\n",
    "type(k)"
   ]
  },
  {
   "cell_type": "code",
   "execution_count": 68,
   "metadata": {},
   "outputs": [
    {
     "name": "stdout",
     "output_type": "stream",
     "text": [
      "e first appears at position 1\n",
      "i first appears at position 2\n"
     ]
    }
   ],
   "source": [
    "print(f\"e first appears at position {tuple_vowels.index('e')}\")\n",
    "print(f\"i first appears at position {tuple_vowels.index('i')}\")"
   ]
  },
  {
   "cell_type": "code",
   "execution_count": 70,
   "metadata": {},
   "outputs": [
    {
     "ename": "ValueError",
     "evalue": "tuple.index(x): x not in tuple",
     "output_type": "error",
     "traceback": [
      "\u001b[1;31m---------------------------------------------------------------------------\u001b[0m",
      "\u001b[1;31mValueError\u001b[0m                                Traceback (most recent call last)",
      "\u001b[1;32mc:\\Users\\User_Central\\Desktop\\AICORE_PROJECTS\\tuples-sets.ipynb Cell 31\u001b[0m in \u001b[0;36m<cell line: 2>\u001b[1;34m()\u001b[0m\n\u001b[0;32m      <a href='vscode-notebook-cell:/c%3A/Users/User_Central/Desktop/AICORE_PROJECTS/tuples-sets.ipynb#X36sZmlsZQ%3D%3D?line=0'>1</a>\u001b[0m \u001b[39m# Find the first occurence of 'b' element. What does this return? What is the meaning of this error?\u001b[39;00m\n\u001b[1;32m----> <a href='vscode-notebook-cell:/c%3A/Users/User_Central/Desktop/AICORE_PROJECTS/tuples-sets.ipynb#X36sZmlsZQ%3D%3D?line=1'>2</a>\u001b[0m tuple_vowels\u001b[39m.\u001b[39;49mindex(\u001b[39m'\u001b[39;49m\u001b[39mb\u001b[39;49m\u001b[39m'\u001b[39;49m)\n",
      "\u001b[1;31mValueError\u001b[0m: tuple.index(x): x not in tuple"
     ]
    }
   ],
   "source": [
    "# Find the first occurence of 'b' element. What does this return? What is the meaning of this error?\n",
    "tuple_vowels.index('b')"
   ]
  },
  {
   "cell_type": "code",
   "execution_count": 69,
   "metadata": {},
   "outputs": [
    {
     "name": "stdout",
     "output_type": "stream",
     "text": [
      "('u', 'g', 'l', 'i')\n",
      "i first appears from index 4 to 8 at position 3\n"
     ]
    }
   ],
   "source": [
    "# Find the first occurence of 'i' elements from index 4 to 8 in the following tuple alphabet = ('a', 'e', 'i', 'o', 'u', 'g', 'l', 'i', 'u')\n",
    "\n",
    "tuple_alpha = ('a', 'e', 'i', 'o', 'u', 'g', 'l', 'i', 'u')\n",
    "tuple_alpha[4:-1]\n",
    "y = tuple_alpha[4:-1]\n",
    "print(y)\n",
    "y.index('i')\n",
    "print(f\"i first appears from index 4 to 8 at position {y.index('i')}\")\n",
    "\n"
   ]
  },
  {
   "cell_type": "code",
   "execution_count": 70,
   "metadata": {},
   "outputs": [
    {
     "name": "stdout",
     "output_type": "stream",
     "text": [
      "the first occurence of the 'i' element from index 4 to 8 in the tuple alphabet is at position 3\n"
     ]
    }
   ],
   "source": [
    "# Find the first occurence of 'i' elements from index 4 to 8 in the following tuple alphabet = ('a', 'e', 'i', 'o', 'u', 'g', 'l', 'i', 'u')\n",
    "\n",
    "tuple_alpha[4:-1].index('i')\n",
    "print(f\"the first occurence of the 'i' element from index 4 to 8 in the tuple alphabet is at position {tuple_alpha[4:-1].index('i')}\")\n"
   ]
  },
  {
   "attachments": {},
   "cell_type": "markdown",
   "metadata": {},
   "source": [
    "#### Unpacking Tuples\n",
    "- Initialise a tuple that contains four different data types. Unpack the tuple and print out each variable.\n",
    "- Given a tuple = (70, \"AiCore\", 10, \"Programming\", 70) and x, *y, z = tuple. What do you think the output of the following print statements will be?\n",
    "- print(x)\n",
    "- print(y)\n",
    "- print(z)\n",
    "- Given a tuple = (70, \"AiCore\", 10, \"Programming\", 70) and x, y, *z = tuple. What do you think the output of the following print statements will be?"
   ]
  },
  {
   "cell_type": "code",
   "execution_count": 72,
   "metadata": {},
   "outputs": [
    {
     "name": "stdout",
     "output_type": "stream",
     "text": [
      "78 is an interger\n",
      "True is a boolean\n",
      "The is a string\n",
      "3.56 is a float\n"
     ]
    }
   ],
   "source": [
    "# Initialise a tuple that contains four different data types. Unpack the tuple and print out each variable.\n",
    "# Method 1\n",
    "tuple_datatypes = (78, True, 'The', 3.56)\n",
    "int, bool, str, float = (78, True, 'The', 3.56)\n",
    "print(f'{int} is an interger')\n",
    "print(f'{bool} is a boolean')\n",
    "print(f'{str} is a string')\n",
    "print(f'{float} is a float')"
   ]
  },
  {
   "cell_type": "code",
   "execution_count": 83,
   "metadata": {},
   "outputs": [
    {
     "name": "stdout",
     "output_type": "stream",
     "text": [
      "78 is an interger\n",
      "True is a boolean\n",
      "The is a string\n",
      "3.56 is a float\n"
     ]
    }
   ],
   "source": [
    "# Method 2\n",
    "tuple_datatypes = (78, True, 'The', 3.56)\n",
    "w, x, y, z = tuple_datatypes\n",
    "print(f'{w} is an interger')\n",
    "print(f'{x} is a boolean')\n",
    "print(f'{y} is a string')\n",
    "print(f'{z} is a float')"
   ]
  },
  {
   "cell_type": "code",
   "execution_count": 75,
   "metadata": {},
   "outputs": [
    {
     "name": "stdout",
     "output_type": "stream",
     "text": [
      "70\n"
     ]
    }
   ],
   "source": [
    "# Given a tuple = (70, \"AiCore\", 10, \"Programming\", 70) and x, *y, z = tuple. What do you think the output of the following print statements will be?\n",
    "tuple = (70, \"AiCore\", 10, \"Programming\", 70)\n",
    "x, *y, z = tuple\n",
    "print(x)\n"
   ]
  },
  {
   "cell_type": "code",
   "execution_count": 76,
   "metadata": {},
   "outputs": [
    {
     "name": "stdout",
     "output_type": "stream",
     "text": [
      "['AiCore', 10, 'Programming']\n"
     ]
    }
   ],
   "source": [
    "print(y) # generates a LIST of elements excluding the first and last "
   ]
  },
  {
   "cell_type": "code",
   "execution_count": 77,
   "metadata": {},
   "outputs": [
    {
     "name": "stdout",
     "output_type": "stream",
     "text": [
      "70\n"
     ]
    }
   ],
   "source": [
    "print(z)"
   ]
  },
  {
   "attachments": {},
   "cell_type": "markdown",
   "metadata": {},
   "source": [
    "#### More unpacking practice using the * operator - Notes\n",
    "- The Operator * ensures the any tuple element excluding the first and last is printed when called\n",
    "- while *y generates all the elements b/w the 1st and last elements, y generates all the result b/w the 1st and last elements in a LIST form"
   ]
  },
  {
   "cell_type": "code",
   "execution_count": 94,
   "metadata": {},
   "outputs": [
    {
     "name": "stdout",
     "output_type": "stream",
     "text": [
      "23\n",
      "[45, 67, 2.33, 5.6, 58, 44, 79, 89, 71, 4.4, 33, 67, 33, 22]\n",
      "99\n",
      "45 67 2.33 5.6 58 44 79 89 71 4.4 33 67 33 22\n",
      "{33, 2.33, 67, 4.4, 5.6, 71, 44, 45, 79, 22, 89, 58}\n"
     ]
    }
   ],
   "source": [
    "# I am considering an Even element listed tuple_x (16 char)\n",
    "\n",
    "tuple_x = (23, 45, 67, 2.33, 5.6, 58, 44, 79, 89, 71, 4.4, 33, 67, 33, 22, 99)\n",
    "x,*y, z = tuple_x\n",
    "print(x)\n",
    "print(y)\n",
    "print(z)\n",
    "print (*y)\n",
    "print( {*y})\n"
   ]
  },
  {
   "attachments": {},
   "cell_type": "markdown",
   "metadata": {},
   "source": [
    "#### SETS - Notes\n",
    "#### Set = A List in curly brackets\n",
    "- Sets are not subscriptable (They can't be indexed)\n",
    "- Sets are not ordered (They are just a bag of variables)\n",
    "- Sets do not contain any duplicate items.\n"
   ]
  },
  {
   "cell_type": "code",
   "execution_count": 1,
   "metadata": {},
   "outputs": [
    {
     "data": {
      "text/plain": [
       "set"
      ]
     },
     "execution_count": 1,
     "metadata": {},
     "output_type": "execute_result"
    }
   ],
   "source": [
    "my_set = {1, 5, 9, 11, 17, 19}\n",
    "type(my_set)"
   ]
  },
  {
   "attachments": {},
   "cell_type": "markdown",
   "metadata": {},
   "source": [
    "#### Conversion of a Set to a List"
   ]
  },
  {
   "cell_type": "code",
   "execution_count": 3,
   "metadata": {},
   "outputs": [
    {
     "data": {
      "text/plain": [
       "list"
      ]
     },
     "execution_count": 3,
     "metadata": {},
     "output_type": "execute_result"
    }
   ],
   "source": [
    "my_list = [1, 2, 3, 11, 13, 15]\n",
    "type(my_list)"
   ]
  },
  {
   "cell_type": "code",
   "execution_count": 4,
   "metadata": {},
   "outputs": [
    {
     "data": {
      "text/plain": [
       "set"
      ]
     },
     "execution_count": 4,
     "metadata": {},
     "output_type": "execute_result"
    }
   ],
   "source": [
    "# converting to my_list to a Set\n",
    "\n",
    "my_list = set([1, 2, 3, 11, 13, 15])\n",
    "type(my_list)"
   ]
  },
  {
   "cell_type": "code",
   "execution_count": 7,
   "metadata": {},
   "outputs": [
    {
     "name": "stdout",
     "output_type": "stream",
     "text": [
      "{1, 3, 5, 9, 11, 44, 17, 19, 23}\n"
     ]
    },
    {
     "data": {
      "text/plain": [
       "9"
      ]
     },
     "execution_count": 7,
     "metadata": {},
     "output_type": "execute_result"
    }
   ],
   "source": [
    " # Sets do not contain any duplicate items.\n",
    " \n",
    "my_set1 = {1, 5, 9, 11, 17, 17, 1, 9, 9, 3, 19, 5, 23, 44, 19}\n",
    "print(my_set1)\n",
    "len(my_set1) # excludes duplicates"
   ]
  },
  {
   "attachments": {},
   "cell_type": "markdown",
   "metadata": {},
   "source": [
    "#### Set Operations"
   ]
  },
  {
   "cell_type": "code",
   "execution_count": 9,
   "metadata": {},
   "outputs": [
    {
     "data": {
      "text/plain": [
       "{3, 4}"
      ]
     },
     "execution_count": 9,
     "metadata": {},
     "output_type": "execute_result"
    }
   ],
   "source": [
    "a = {1, 2, 3, 4}\n",
    "b = {4, 66, 57, 3, 79, 88}\n",
    "\n",
    "a. intersection(b)"
   ]
  },
  {
   "cell_type": "code",
   "execution_count": 10,
   "metadata": {},
   "outputs": [
    {
     "data": {
      "text/plain": [
       "{1, 2, 3, 4, 57, 66, 79, 88}"
      ]
     },
     "execution_count": 10,
     "metadata": {},
     "output_type": "execute_result"
    }
   ],
   "source": [
    "a.union(b)\n"
   ]
  },
  {
   "cell_type": "code",
   "execution_count": 11,
   "metadata": {},
   "outputs": [
    {
     "data": {
      "text/plain": [
       "{1, 2}"
      ]
     },
     "execution_count": 11,
     "metadata": {},
     "output_type": "execute_result"
    }
   ],
   "source": [
    "a.difference(b) # what's in 'a' thats is not in 'b'"
   ]
  },
  {
   "cell_type": "code",
   "execution_count": 12,
   "metadata": {},
   "outputs": [
    {
     "data": {
      "text/plain": [
       "{57, 66, 79, 88}"
      ]
     },
     "execution_count": 12,
     "metadata": {},
     "output_type": "execute_result"
    }
   ],
   "source": [
    "b.difference(a) # what's in 'b' thats is not in 'a"
   ]
  },
  {
   "attachments": {},
   "cell_type": "markdown",
   "metadata": {},
   "source": [
    "- symmetric_difference returns a set with the items that are in set_1 and set_2, but without the items that are in BOTH"
   ]
  },
  {
   "cell_type": "code",
   "execution_count": 77,
   "metadata": {},
   "outputs": [
    {
     "data": {
      "text/plain": [
       "{1, 2, 57, 66, 79, 88}"
      ]
     },
     "execution_count": 77,
     "metadata": {},
     "output_type": "execute_result"
    }
   ],
   "source": [
    "a.symmetric_difference(b)"
   ]
  },
  {
   "cell_type": "code",
   "execution_count": 78,
   "metadata": {},
   "outputs": [
    {
     "data": {
      "text/plain": [
       "{1, 2, 57, 66, 79, 88}"
      ]
     },
     "execution_count": 78,
     "metadata": {},
     "output_type": "execute_result"
    }
   ],
   "source": [
    "b.symmetric_difference(a)"
   ]
  },
  {
   "attachments": {},
   "cell_type": "markdown",
   "metadata": {},
   "source": [
    "#### How to Remove items from Set"
   ]
  },
  {
   "cell_type": "code",
   "execution_count": 19,
   "metadata": {},
   "outputs": [
    {
     "name": "stdout",
     "output_type": "stream",
     "text": [
      "{1, 17, 19, 5, 987, 9, 11}\n"
     ]
    }
   ],
   "source": [
    "# add or Remove items from Set\n",
    "my_set.add(987)\n",
    "print(my_set)"
   ]
  },
  {
   "cell_type": "code",
   "execution_count": 20,
   "metadata": {},
   "outputs": [
    {
     "name": "stdout",
     "output_type": "stream",
     "text": [
      "{1, 17, 19, 5, 9, 11}\n"
     ]
    }
   ],
   "source": [
    "my_set.remove(987)\n",
    "print(my_set)"
   ]
  },
  {
   "attachments": {},
   "cell_type": "markdown",
   "metadata": {},
   "source": [
    "#### Discard method is used to check if an item is in the set without generating a error message"
   ]
  },
  {
   "cell_type": "code",
   "execution_count": 23,
   "metadata": {},
   "outputs": [],
   "source": [
    "my_set.discard(987)"
   ]
  },
  {
   "cell_type": "code",
   "execution_count": 24,
   "metadata": {},
   "outputs": [
    {
     "ename": "KeyError",
     "evalue": "987",
     "output_type": "error",
     "traceback": [
      "\u001b[1;31m---------------------------------------------------------------------------\u001b[0m",
      "\u001b[1;31mKeyError\u001b[0m                                  Traceback (most recent call last)",
      "\u001b[1;32mc:\\Users\\User_Central\\Desktop\\AICORE_PROJECTS\\tuples-sets.ipynb Cell 55\u001b[0m in \u001b[0;36m<cell line: 1>\u001b[1;34m()\u001b[0m\n\u001b[1;32m----> <a href='vscode-notebook-cell:/c%3A/Users/User_Central/Desktop/AICORE_PROJECTS/tuples-sets.ipynb#Y105sZmlsZQ%3D%3D?line=0'>1</a>\u001b[0m my_set\u001b[39m.\u001b[39;49mremove(\u001b[39m987\u001b[39;49m)\n",
      "\u001b[1;31mKeyError\u001b[0m: 987"
     ]
    }
   ],
   "source": [
    "my_set.remove(987)"
   ]
  },
  {
   "attachments": {},
   "cell_type": "markdown",
   "metadata": {},
   "source": [
    "#### Retrieve the minimum and maximum value in the set using the min and the max functions"
   ]
  },
  {
   "attachments": {},
   "cell_type": "markdown",
   "metadata": {},
   "source": [
    "##### Me Experimenting again"
   ]
  },
  {
   "cell_type": "code",
   "execution_count": 73,
   "metadata": {},
   "outputs": [
    {
     "data": {
      "text/plain": [
       "(1, 19, 1, 44)"
      ]
     },
     "execution_count": 73,
     "metadata": {},
     "output_type": "execute_result"
    }
   ],
   "source": [
    "# And retrieve the minimum and maximum value in the set using the min and the max functions\n",
    "\n",
    "min(my_set), max(my_set), min(my_set1), max(my_set1) # such arrangement give birth to a Tuple\n"
   ]
  },
  {
   "cell_type": "code",
   "execution_count": 31,
   "metadata": {},
   "outputs": [
    {
     "data": {
      "text/plain": [
       "tuple"
      ]
     },
     "execution_count": 31,
     "metadata": {},
     "output_type": "execute_result"
    }
   ],
   "source": [
    "x = min(my_set), max(my_set), min(my_set1), max(my_set1) \n",
    "type(x)"
   ]
  },
  {
   "cell_type": "code",
   "execution_count": 75,
   "metadata": {},
   "outputs": [
    {
     "data": {
      "text/plain": [
       "list"
      ]
     },
     "execution_count": 75,
     "metadata": {},
     "output_type": "execute_result"
    }
   ],
   "source": [
    "y = [min(my_set), max(my_set), min(my_set1), max(my_set1)] # such arrangement give birth to a Tuple\n",
    "type(y)"
   ]
  },
  {
   "cell_type": "code",
   "execution_count": 76,
   "metadata": {},
   "outputs": [
    {
     "data": {
      "text/plain": [
       "set"
      ]
     },
     "execution_count": 76,
     "metadata": {},
     "output_type": "execute_result"
    }
   ],
   "source": [
    "z = {min(my_set), max(my_set), min(my_set1), max(my_set1)} # such arrangement give birth to a Set\n",
    "type(z)"
   ]
  },
  {
   "attachments": {},
   "cell_type": "markdown",
   "metadata": {},
   "source": [
    "### milestone 3 Task 3.3 prerequisite Practice Excercise\n",
    "#### Initialising Stes\n",
    "- Create an empty set without Python's built-in function\n",
    "- Create an empty set with Python's built-in function\n",
    "- Iterate over one of the sets and print out the values"
   ]
  },
  {
   "cell_type": "code",
   "execution_count": 102,
   "metadata": {},
   "outputs": [
    {
     "data": {
      "text/plain": [
       "set"
      ]
     },
     "execution_count": 102,
     "metadata": {},
     "output_type": "execute_result"
    }
   ],
   "source": [
    "# Create an empty set without Python's built-in function\n",
    "my_set1 = {*()}\n",
    "type(my_set1)"
   ]
  },
  {
   "cell_type": "code",
   "execution_count": 104,
   "metadata": {},
   "outputs": [
    {
     "data": {
      "text/plain": [
       "set"
      ]
     },
     "execution_count": 104,
     "metadata": {},
     "output_type": "execute_result"
    }
   ],
   "source": [
    "# Create an empty set with Python's built-in function\n",
    "my_set2 = set([])\n",
    "type(my_set2)"
   ]
  },
  {
   "cell_type": "code",
   "execution_count": 105,
   "metadata": {},
   "outputs": [
    {
     "name": "stdout",
     "output_type": "stream",
     "text": [
      "set()\n"
     ]
    }
   ],
   "source": [
    "# Iterate over one of the sets and print out the values\n",
    "my_set2 = set([])\n",
    "print(my_set2)"
   ]
  },
  {
   "attachments": {},
   "cell_type": "markdown",
   "metadata": {},
   "source": [
    "#### find the min and maxvalue in a set\n",
    "- Find the maximum value in the following sets: set_int = {8, 16, 24, 1, 25, 3, 10, 65, 55} set_str = {'f', 'l', 'k', 'a', 'w'}\n",
    "- Find the minimum value in the following sets: set_int = {4, 12, 10, 9, 4, 13} set_str = {'b', 'z', 't', 'm', 'y', 'c'}"
   ]
  },
  {
   "cell_type": "code",
   "execution_count": 106,
   "metadata": {},
   "outputs": [
    {
     "data": {
      "text/plain": [
       "65"
      ]
     },
     "execution_count": 106,
     "metadata": {},
     "output_type": "execute_result"
    }
   ],
   "source": [
    "# Find the maximum value in the following sets: set_int = {8, 16, 24, 1, 25, 3, 10, 65, 55} set_str = {'f', 'l', 'k', 'a', 'w'}\n",
    "set_int = {8, 16, 24, 1, 25, 3, 10, 65, 55}\n",
    "max(set_int)"
   ]
  },
  {
   "cell_type": "code",
   "execution_count": 107,
   "metadata": {},
   "outputs": [
    {
     "data": {
      "text/plain": [
       "'w'"
      ]
     },
     "execution_count": 107,
     "metadata": {},
     "output_type": "execute_result"
    }
   ],
   "source": [
    "set_str = {'f', 'l', 'k', 'a', 'w'}\n",
    "max(set_str)"
   ]
  },
  {
   "cell_type": "code",
   "execution_count": 109,
   "metadata": {},
   "outputs": [
    {
     "data": {
      "text/plain": [
       "4"
      ]
     },
     "execution_count": 109,
     "metadata": {},
     "output_type": "execute_result"
    }
   ],
   "source": [
    "# Find the minimum value in the following sets: set_int = {4, 12, 10, 9, 4, 13} set_str = {'b', 'z', 't', 'm', 'y', 'c'}\n",
    "set_int = {4, 12, 10, 9, 4, 13}\n",
    "min(set_int)"
   ]
  },
  {
   "cell_type": "code",
   "execution_count": 110,
   "metadata": {},
   "outputs": [
    {
     "data": {
      "text/plain": [
       "'b'"
      ]
     },
     "execution_count": 110,
     "metadata": {},
     "output_type": "execute_result"
    }
   ],
   "source": [
    "set_str = {'b', 'z', 't', 'm', 'y', 'c'}\n",
    "min(set_str)"
   ]
  },
  {
   "attachments": {},
   "cell_type": "markdown",
   "metadata": {},
   "source": [
    "#### Adding items to a set\n",
    "- Given the set prime_numbers = {3, 5, 7, 11, 13}, add:\n",
    "- a prime number to this set\n",
    "- a set of prime numbers (hint: use update method)"
   ]
  },
  {
   "cell_type": "code",
   "execution_count": 112,
   "metadata": {},
   "outputs": [
    {
     "name": "stdout",
     "output_type": "stream",
     "text": [
      "{17, 3, 5, 7, 11, 13}\n"
     ]
    }
   ],
   "source": [
    "prime_numbers = {3, 5, 7, 11, 13}\n",
    "prime_numbers.add(17)\n",
    "print(prime_numbers)"
   ]
  },
  {
   "cell_type": "code",
   "execution_count": 117,
   "metadata": {},
   "outputs": [
    {
     "name": "stdout",
     "output_type": "stream",
     "text": [
      "{3, 5, 7, 11, 13, 17, 19, 23, 29, 31}\n"
     ]
    }
   ],
   "source": [
    " # Add a set of prime numbers (hint: use update method)\n",
    " # Method 1\n",
    " \n",
    "prime_numbers.update([19, 23, 29, 31])\n",
    "print(prime_numbers)\n"
   ]
  },
  {
   "cell_type": "code",
   "execution_count": 119,
   "metadata": {},
   "outputs": [
    {
     "name": "stdout",
     "output_type": "stream",
     "text": [
      "{3, 5, 7, 11, 13, 17, 19, 23, 29, 31}\n"
     ]
    }
   ],
   "source": [
    "# Method 2\n",
    "prime_numbers.update({19, 23, 29, 31})\n",
    "print(prime_numbers)"
   ]
  },
  {
   "attachments": {},
   "cell_type": "markdown",
   "metadata": {},
   "source": [
    "#### Mathematical operation\n",
    "- Given the following two sets: set1 = {15, 25, 35, 45, 55} set2 = {35, 45, 55, 65, 75}\n",
    "- Return a set with the common items\n",
    "- Return a set with the unique items\n",
    "- Return a set that contains items in set1 or set 2 but not in both"
   ]
  },
  {
   "cell_type": "code",
   "execution_count": 120,
   "metadata": {},
   "outputs": [
    {
     "data": {
      "text/plain": [
       "{35, 45, 55}"
      ]
     },
     "execution_count": 120,
     "metadata": {},
     "output_type": "execute_result"
    }
   ],
   "source": [
    "# Return a set with the common items\n",
    "set1 = {15, 25, 35, 45, 55} \n",
    "set2 = {35, 45, 55, 65, 75}\n",
    "\n",
    "set1.intersection(set2)"
   ]
  },
  {
   "cell_type": "code",
   "execution_count": 121,
   "metadata": {},
   "outputs": [
    {
     "data": {
      "text/plain": [
       "{15, 25, 35, 45, 55, 65, 75}"
      ]
     },
     "execution_count": 121,
     "metadata": {},
     "output_type": "execute_result"
    }
   ],
   "source": [
    "# Return a set with the unique items\n",
    "set1.union(set2)"
   ]
  },
  {
   "cell_type": "code",
   "execution_count": 124,
   "metadata": {},
   "outputs": [
    {
     "data": {
      "text/plain": [
       "{15, 25}"
      ]
     },
     "execution_count": 124,
     "metadata": {},
     "output_type": "execute_result"
    }
   ],
   "source": [
    "# Return a set that contains items in set1 or set 2 but not in both\n",
    "set1.difference(set2)\n"
   ]
  },
  {
   "cell_type": "code",
   "execution_count": 123,
   "metadata": {},
   "outputs": [
    {
     "data": {
      "text/plain": [
       "{65, 75}"
      ]
     },
     "execution_count": 123,
     "metadata": {},
     "output_type": "execute_result"
    }
   ],
   "source": [
    "set2.difference(set1)"
   ]
  },
  {
   "attachments": {},
   "cell_type": "markdown",
   "metadata": {},
   "source": [
    "#### Finding the m,issing and Additional value in two lists\n",
    "- list1 = [1, 2, 3, 4, 5, 6, 7, 8] list2 = [5, 6, 7, 8, 9, 10, 11, 12]\n",
    "- Print the missing & additional items in list1 (hint: convert list to a set)\n",
    "- Print the missing & additional items in list2"
   ]
  },
  {
   "cell_type": "code",
   "execution_count": 127,
   "metadata": {},
   "outputs": [
    {
     "data": {
      "text/plain": [
       "{1, 2, 3, 4, 5, 6, 7, 8, 9, 10, 11, 12}"
      ]
     },
     "execution_count": 127,
     "metadata": {},
     "output_type": "execute_result"
    }
   ],
   "source": [
    "# Print the missing & additional items in list1 (hint: convert list to a set)\n",
    "\n",
    "list1 = [1, 2, 3, 4, 5, 6, 7, 8] \n",
    "list2 = [5, 6, 7, 8, 9, 10, 11, 12]\n",
    "\n",
    "list1 = set([1, 2, 3, 4, 5, 6, 7, 8])   # first convert the lists to set\n",
    "list2 = set([5, 6, 7, 8, 9, 10, 11, 12])\n",
    "list1.union(list2.difference(list1))\n"
   ]
  }
 ],
 "metadata": {
  "kernelspec": {
   "display_name": "secondtest_env",
   "language": "python",
   "name": "python3"
  },
  "language_info": {
   "codemirror_mode": {
    "name": "ipython",
    "version": 3
   },
   "file_extension": ".py",
   "mimetype": "text/x-python",
   "name": "python",
   "nbconvert_exporter": "python",
   "pygments_lexer": "ipython3",
   "version": "3.10.6"
  },
  "orig_nbformat": 4,
  "vscode": {
   "interpreter": {
    "hash": "f7e737508e320864f9730b912236e997794d80e5da8833e77c0e26b9118fc4e5"
   }
  }
 },
 "nbformat": 4,
 "nbformat_minor": 2
}
